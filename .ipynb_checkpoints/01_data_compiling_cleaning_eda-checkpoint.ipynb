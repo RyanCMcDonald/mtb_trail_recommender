{
 "cells": [
  {
   "cell_type": "markdown",
   "metadata": {},
   "source": [
    "# <img src=\"./resources/GA.png\" width=\"25\" height=\"25\" /> <span style=\"color:Blue\">DSI Capstone: Arizona/ Utah MTB Trail Recommender Engine</span> \n",
    "---\n",
    "## <span style=\"color:Green\">Cleaning / Merging Datasets / Preliminary EDA - Preprocessing</span>      \n",
    "\n",
    "#### Ryan McDonald -General Assembly \n",
    "\n",
    "---"
   ]
  },
  {
   "cell_type": "markdown",
   "metadata": {},
   "source": [
    "### Notebook Contents:\n",
    "\n",
    "- [Reading the User Data](#intro)    \n",
    "    - [User Data Cleaning](#cleanaz)\n",
    "- [Reading the Trail Data](#trail)\n",
    "    - [Trail Data Cleaning](#trailaz)\n",
    "        - [Imputation/OHE](#imputeaz)\n",
    "- [Export to CSV- Trails](#saveaz)"
   ]
  },
  {
   "cell_type": "markdown",
   "metadata": {},
   "source": [
    "**Imports**"
   ]
  },
  {
   "cell_type": "code",
   "execution_count": 147,
   "metadata": {},
   "outputs": [],
   "source": [
    "# general processing\n",
    "import numpy as np\n",
    "import pandas as pd\n",
    "import re\n",
    "\n",
    "# CSV manipulation\n",
    "import os\n",
    "import glob as glob\n",
    "\n",
    "# for preprocessing\n",
    "from sklearn.preprocessing import MinMaxScaler\n",
    "from sklearn.preprocessing import OneHotEncoder \n",
    "\n",
    "# imputation of various nulls\n",
    "from sklearn.impute import KNNImputer"
   ]
  },
  {
   "cell_type": "markdown",
   "metadata": {},
   "source": [
    "A stretch goal for this project, post General Assembly, would be the inclusion of every state in the county. Scaling the data-scrapping for the rest of the country would take approximately 14 days at the rate of current scrapping. In order to ramp up efficiencies, the below cleaning blocks would be converted into a function to loop through each state's CSV file. I'm looking forward to putting this together at a greater scale! "
   ]
  },
  {
   "cell_type": "markdown",
   "metadata": {},
   "source": [
    "This data cleaning will produce two sets of cleaned data for each state.  One set will be for EDA and a user dashboard.  The other (with OHE categorical features and scaled data) will be for the recommender systems."
   ]
  },
  {
   "cell_type": "markdown",
   "metadata": {},
   "source": [
    "<a id='intro'></a>\n",
    "## 1. Read the Clean Data - Arizona and Utah Users Data\n",
    "\n",
    "The user data retreived from utilizing Octoparse API was not in the correct format.  For each trail name, all users (whether there was one or one hundred) were placed into one cell.  This cell also contained the average user rating.  The cell would need to be cleaned, reformated, and expanded into a new dataframe where each row would contain only one user and the trail they rated. For example, if 85 people rated 'Hiline Trail', then the subsequent dataframe would have 85 rows for 'Hiline Trail' with a unique user assinged to each.  This will be repeated for all trails with user ratings.\n",
    "\n",
    "This user data will be utilized in a subsequent notebook to build a collaborative, binary-rating, user-based recommender system."
   ]
  },
  {
   "cell_type": "markdown",
   "metadata": {},
   "source": [
    "<a id='cleanaz'></a>\n",
    "#### Arizona User Data"
   ]
  },
  {
   "cell_type": "code",
   "execution_count": 2,
   "metadata": {},
   "outputs": [
    {
     "data": {
      "text/plain": [
       "(893, 2)"
      ]
     },
     "execution_count": 2,
     "metadata": {},
     "output_type": "execute_result"
    }
   ],
   "source": [
    "az_users = pd.read_csv('./data/user_data/arizona_trails_users.csv')\n",
    "az_users.shape"
   ]
  },
  {
   "cell_type": "code",
   "execution_count": 3,
   "metadata": {},
   "outputs": [
    {
     "data": {
      "text/html": [
       "<div>\n",
       "<style scoped>\n",
       "    .dataframe tbody tr th:only-of-type {\n",
       "        vertical-align: middle;\n",
       "    }\n",
       "\n",
       "    .dataframe tbody tr th {\n",
       "        vertical-align: top;\n",
       "    }\n",
       "\n",
       "    .dataframe thead th {\n",
       "        text-align: right;\n",
       "    }\n",
       "</style>\n",
       "<table border=\"1\" class=\"dataframe\">\n",
       "  <thead>\n",
       "    <tr style=\"text-align: right;\">\n",
       "      <th></th>\n",
       "      <th>trail_name</th>\n",
       "      <th>user_name</th>\n",
       "    </tr>\n",
       "  </thead>\n",
       "  <tbody>\n",
       "    <tr>\n",
       "      <th>0</th>\n",
       "      <td>Hiline Trail</td>\n",
       "      <td>Stars         Average: 4.7          Maxx Byerl...</td>\n",
       "    </tr>\n",
       "    <tr>\n",
       "      <th>1</th>\n",
       "      <td>Slim Shady Trail</td>\n",
       "      <td>Stars         Average: 4.4          Chase Roth...</td>\n",
       "    </tr>\n",
       "    <tr>\n",
       "      <th>2</th>\n",
       "      <td>Mescal</td>\n",
       "      <td>Stars         Average: 4.6          Roger Coss...</td>\n",
       "    </tr>\n",
       "    <tr>\n",
       "      <th>3</th>\n",
       "      <td>Chuckwagon</td>\n",
       "      <td>Stars         Average: 4.5          Roger Coss...</td>\n",
       "    </tr>\n",
       "    <tr>\n",
       "      <th>4</th>\n",
       "      <td>Tortolita Preserve Loop</td>\n",
       "      <td>Stars         Average: 4.2          Joe Nelson...</td>\n",
       "    </tr>\n",
       "  </tbody>\n",
       "</table>\n",
       "</div>"
      ],
      "text/plain": [
       "                trail_name                                          user_name\n",
       "0             Hiline Trail  Stars         Average: 4.7          Maxx Byerl...\n",
       "1         Slim Shady Trail  Stars         Average: 4.4          Chase Roth...\n",
       "2                   Mescal  Stars         Average: 4.6          Roger Coss...\n",
       "3               Chuckwagon  Stars         Average: 4.5          Roger Coss...\n",
       "4  Tortolita Preserve Loop  Stars         Average: 4.2          Joe Nelson..."
      ]
     },
     "execution_count": 3,
     "metadata": {},
     "output_type": "execute_result"
    }
   ],
   "source": [
    "az_users.head()"
   ]
  },
  {
   "cell_type": "markdown",
   "metadata": {},
   "source": [
    "<a id='cleanaz'></a>\n",
    "#### Utah User Data"
   ]
  },
  {
   "cell_type": "code",
   "execution_count": 4,
   "metadata": {},
   "outputs": [
    {
     "data": {
      "text/plain": [
       "(929, 2)"
      ]
     },
     "execution_count": 4,
     "metadata": {},
     "output_type": "execute_result"
    }
   ],
   "source": [
    "ut_users = pd.read_csv('./data/user_data/utah_trails_users.csv')\n",
    "ut_users.shape"
   ]
  },
  {
   "cell_type": "code",
   "execution_count": 5,
   "metadata": {},
   "outputs": [
    {
     "data": {
      "text/html": [
       "<div>\n",
       "<style scoped>\n",
       "    .dataframe tbody tr th:only-of-type {\n",
       "        vertical-align: middle;\n",
       "    }\n",
       "\n",
       "    .dataframe tbody tr th {\n",
       "        vertical-align: top;\n",
       "    }\n",
       "\n",
       "    .dataframe thead th {\n",
       "        text-align: right;\n",
       "    }\n",
       "</style>\n",
       "<table border=\"1\" class=\"dataframe\">\n",
       "  <thead>\n",
       "    <tr style=\"text-align: right;\">\n",
       "      <th></th>\n",
       "      <th>trail_name</th>\n",
       "      <th>user_name</th>\n",
       "    </tr>\n",
       "  </thead>\n",
       "  <tbody>\n",
       "    <tr>\n",
       "      <th>0</th>\n",
       "      <td>Thunder Mountain Trail #33098</td>\n",
       "      <td>Stars                   Average: 4.7          ...</td>\n",
       "    </tr>\n",
       "    <tr>\n",
       "      <th>1</th>\n",
       "      <td>Wasatch Crest</td>\n",
       "      <td>Stars                   Average: 4.8          ...</td>\n",
       "    </tr>\n",
       "    <tr>\n",
       "      <th>2</th>\n",
       "      <td>Captain Ahab</td>\n",
       "      <td>Stars                   Average: 4.7          ...</td>\n",
       "    </tr>\n",
       "    <tr>\n",
       "      <th>3</th>\n",
       "      <td>Wire Mesa Loop</td>\n",
       "      <td>Stars                   Average: 4.6          ...</td>\n",
       "    </tr>\n",
       "    <tr>\n",
       "      <th>4</th>\n",
       "      <td>Ramblin'</td>\n",
       "      <td>Stars                   Average: 4.7          ...</td>\n",
       "    </tr>\n",
       "  </tbody>\n",
       "</table>\n",
       "</div>"
      ],
      "text/plain": [
       "                      trail_name  \\\n",
       "0  Thunder Mountain Trail #33098   \n",
       "1                  Wasatch Crest   \n",
       "2                   Captain Ahab   \n",
       "3                 Wire Mesa Loop   \n",
       "4                       Ramblin'   \n",
       "\n",
       "                                           user_name  \n",
       "0  Stars                   Average: 4.7          ...  \n",
       "1  Stars                   Average: 4.8          ...  \n",
       "2  Stars                   Average: 4.7          ...  \n",
       "3  Stars                   Average: 4.6          ...  \n",
       "4  Stars                   Average: 4.7          ...  "
      ]
     },
     "execution_count": 5,
     "metadata": {},
     "output_type": "execute_result"
    }
   ],
   "source": [
    "ut_users.head()"
   ]
  },
  {
   "cell_type": "markdown",
   "metadata": {},
   "source": [
    "\n",
    "#### Cleaning Arizona / Utah 'user_name' Column"
   ]
  },
  {
   "cell_type": "code",
   "execution_count": 6,
   "metadata": {},
   "outputs": [],
   "source": [
    "# cleaning function for Arizona Data\n",
    "\n",
    "def user_clean(df):\n",
    "    for each in range(0,len(df['trail_name'])):    \n",
    "        # remove all the whitespace between names and replace with a comma\n",
    "        s = re.sub('    \\s+',',',df['user_name'][each])\n",
    "\n",
    "        # remove the top two entries ('Stars' and 'Average')\n",
    "        user_list = (s.split(\",\"))[2:]\n",
    "\n",
    "        # combine and create a list of tuples for users checked into each specific trail\n",
    "        info = [(item, df['trail_name'][each]) for item in user_list]\n",
    "\n",
    "        # building into a DataFrame of each user and trail check in \n",
    "        # trail_name now repeated when more than one check in present\n",
    "        trail_checkins = pd.DataFrame(info, columns =['user_name', 'trail_name'])\n",
    "    \n",
    "        # saving each trail with check ins to a csv (to be concatenated below)\n",
    "        trail_checkins.to_csv(f'./data/arizona_users/trail_{each}.csv', index = False)\n",
    "\n",
    "    # what to choose files by\n",
    "    extension = 'csv'\n",
    "\n",
    "    # looping through the relative file path to grab all files\n",
    "    all_filenames = [i for i in glob.glob('./data/arizona_users/*'.format(extension))]\n",
    "\n",
    "    # combine all files in the list\n",
    "    all_user = pd.concat([pd.read_csv(f) for f in all_filenames ])\n",
    "\n",
    "    # export to new, concatenated csv\n",
    "    # relative file path to were to save new csv\n",
    "    all_user.to_csv( \"./data/all_arizona_users.csv\", index=False)\n",
    "\n",
    "    # Getting a fresh index\n",
    "    all_user.reset_index(inplace = True)\n",
    "    \n",
    "    return"
   ]
  },
  {
   "cell_type": "code",
   "execution_count": 7,
   "metadata": {},
   "outputs": [],
   "source": [
    "user_clean(az_users)"
   ]
  },
  {
   "cell_type": "code",
   "execution_count": 8,
   "metadata": {},
   "outputs": [],
   "source": [
    "# cleaning function for Utah Data\n",
    "\n",
    "def user_clean(df):\n",
    "    for each in range(0,len(df['trail_name'])):    \n",
    "        # remove all the whitespace between names and replace with a comma\n",
    "        s = re.sub('    \\s+',',',df['user_name'][each])\n",
    "\n",
    "        # remove the top two entries ('Stars' and 'Average')\n",
    "        user_list = (s.split(\",\"))[2:]\n",
    "\n",
    "        # combine and create a list of tuples for users checked into each specific trail\n",
    "        info = [(item, df['trail_name'][each]) for item in user_list]\n",
    "\n",
    "        # building into a DataFrame of each user and trail check in \n",
    "        # trail_name now repeated when more than one check in present\n",
    "        trail_checkins = pd.DataFrame(info, columns =['user_name', 'trail_name'])\n",
    "    \n",
    "        # saving each trail with check ins to a csv (to be concatenated below)\n",
    "        trail_checkins.to_csv(f'./data/utah_users/trail_{each}.csv', index = False)\n",
    "\n",
    "    # what to choose files by\n",
    "    extension = 'csv'\n",
    "\n",
    "    # looping through the relative file path to grab all files\n",
    "    all_filenames = [i for i in glob.glob('./data/utah_users/*'.format(extension))]\n",
    "\n",
    "    # combine all files in the list\n",
    "    all_user = pd.concat([pd.read_csv(f) for f in all_filenames ])\n",
    "\n",
    "    # export to new, concatenated csv\n",
    "    # relative file path to were to save new csv\n",
    "    all_user.to_csv( \"./data/all_utah_users.csv\", index=False)\n",
    "\n",
    "    # Getting a fresh index\n",
    "    all_user.reset_index(inplace = True)\n",
    "    \n",
    "    return"
   ]
  },
  {
   "cell_type": "code",
   "execution_count": 9,
   "metadata": {},
   "outputs": [],
   "source": [
    "user_clean(ut_users)"
   ]
  },
  {
   "cell_type": "code",
   "execution_count": 10,
   "metadata": {},
   "outputs": [
    {
     "data": {
      "text/html": [
       "<div>\n",
       "<style scoped>\n",
       "    .dataframe tbody tr th:only-of-type {\n",
       "        vertical-align: middle;\n",
       "    }\n",
       "\n",
       "    .dataframe tbody tr th {\n",
       "        vertical-align: top;\n",
       "    }\n",
       "\n",
       "    .dataframe thead th {\n",
       "        text-align: right;\n",
       "    }\n",
       "</style>\n",
       "<table border=\"1\" class=\"dataframe\">\n",
       "  <thead>\n",
       "    <tr style=\"text-align: right;\">\n",
       "      <th></th>\n",
       "      <th>user_name</th>\n",
       "      <th>trail_name</th>\n",
       "    </tr>\n",
       "  </thead>\n",
       "  <tbody>\n",
       "    <tr>\n",
       "      <th>0</th>\n",
       "      <td>Maxx Byerly</td>\n",
       "      <td>Hiline Trail</td>\n",
       "    </tr>\n",
       "    <tr>\n",
       "      <th>1</th>\n",
       "      <td>Cameron McFarland</td>\n",
       "      <td>Hiline Trail</td>\n",
       "    </tr>\n",
       "    <tr>\n",
       "      <th>2</th>\n",
       "      <td>Ascanio Pignatelli</td>\n",
       "      <td>Hiline Trail</td>\n",
       "    </tr>\n",
       "    <tr>\n",
       "      <th>3</th>\n",
       "      <td>Sabrina Katharina</td>\n",
       "      <td>Hiline Trail</td>\n",
       "    </tr>\n",
       "    <tr>\n",
       "      <th>4</th>\n",
       "      <td>Clayton Burtsfield</td>\n",
       "      <td>Hiline Trail</td>\n",
       "    </tr>\n",
       "  </tbody>\n",
       "</table>\n",
       "</div>"
      ],
      "text/plain": [
       "            user_name    trail_name\n",
       "0         Maxx Byerly  Hiline Trail\n",
       "1   Cameron McFarland  Hiline Trail\n",
       "2  Ascanio Pignatelli  Hiline Trail\n",
       "3   Sabrina Katharina  Hiline Trail\n",
       "4  Clayton Burtsfield  Hiline Trail"
      ]
     },
     "execution_count": 10,
     "metadata": {},
     "output_type": "execute_result"
    }
   ],
   "source": [
    "# checking out the cleaned user data for Arizona\n",
    "az_users = pd.read_csv( \"./data/all_arizona_users.csv\")\n",
    "az_users.head()"
   ]
  },
  {
   "cell_type": "code",
   "execution_count": 11,
   "metadata": {},
   "outputs": [
    {
     "data": {
      "text/plain": [
       "((5192, 2),\n",
       " user_name     0\n",
       " trail_name    0\n",
       " dtype: int64)"
      ]
     },
     "execution_count": 11,
     "metadata": {},
     "output_type": "execute_result"
    }
   ],
   "source": [
    "# verifying no nulls\n",
    "az_users.shape, az_users.isnull().sum()"
   ]
  },
  {
   "cell_type": "code",
   "execution_count": 12,
   "metadata": {},
   "outputs": [
    {
     "data": {
      "text/html": [
       "<div>\n",
       "<style scoped>\n",
       "    .dataframe tbody tr th:only-of-type {\n",
       "        vertical-align: middle;\n",
       "    }\n",
       "\n",
       "    .dataframe tbody tr th {\n",
       "        vertical-align: top;\n",
       "    }\n",
       "\n",
       "    .dataframe thead th {\n",
       "        text-align: right;\n",
       "    }\n",
       "</style>\n",
       "<table border=\"1\" class=\"dataframe\">\n",
       "  <thead>\n",
       "    <tr style=\"text-align: right;\">\n",
       "      <th></th>\n",
       "      <th>user_name</th>\n",
       "      <th>trail_name</th>\n",
       "    </tr>\n",
       "  </thead>\n",
       "  <tbody>\n",
       "    <tr>\n",
       "      <th>0</th>\n",
       "      <td>MadHamish H</td>\n",
       "      <td>Thunder Mountain Trail #33098</td>\n",
       "    </tr>\n",
       "    <tr>\n",
       "      <th>1</th>\n",
       "      <td>Matt Lane</td>\n",
       "      <td>Thunder Mountain Trail #33098</td>\n",
       "    </tr>\n",
       "    <tr>\n",
       "      <th>2</th>\n",
       "      <td>Phil Broadbent</td>\n",
       "      <td>Thunder Mountain Trail #33098</td>\n",
       "    </tr>\n",
       "    <tr>\n",
       "      <th>3</th>\n",
       "      <td>Jacob Crockett</td>\n",
       "      <td>Thunder Mountain Trail #33098</td>\n",
       "    </tr>\n",
       "    <tr>\n",
       "      <th>4</th>\n",
       "      <td>Heather Bond</td>\n",
       "      <td>Thunder Mountain Trail #33098</td>\n",
       "    </tr>\n",
       "  </tbody>\n",
       "</table>\n",
       "</div>"
      ],
      "text/plain": [
       "        user_name                     trail_name\n",
       "0     MadHamish H  Thunder Mountain Trail #33098\n",
       "1       Matt Lane  Thunder Mountain Trail #33098\n",
       "2  Phil Broadbent  Thunder Mountain Trail #33098\n",
       "3  Jacob Crockett  Thunder Mountain Trail #33098\n",
       "4    Heather Bond  Thunder Mountain Trail #33098"
      ]
     },
     "execution_count": 12,
     "metadata": {},
     "output_type": "execute_result"
    }
   ],
   "source": [
    "# checking out the cleaned user data for Utah\n",
    "ut_users = pd.read_csv( \"./data/all_utah_users.csv\")\n",
    "ut_users.head()"
   ]
  },
  {
   "cell_type": "code",
   "execution_count": 13,
   "metadata": {},
   "outputs": [
    {
     "data": {
      "text/plain": [
       "((7346, 2),\n",
       " user_name     0\n",
       " trail_name    0\n",
       " dtype: int64)"
      ]
     },
     "execution_count": 13,
     "metadata": {},
     "output_type": "execute_result"
    }
   ],
   "source": [
    "# verifying no nulls\n",
    "ut_users.shape, ut_users.isnull().sum()"
   ]
  },
  {
   "cell_type": "markdown",
   "metadata": {},
   "source": [
    "<a id='trail'></a>\n",
    "## 2. Read and Clean Data - Arizona and Utah Trail Statistics\n",
    "\n",
    "There was a wealth of data available for each trail scrapped. Various trail statisitcs thought most valuable to a rider are included in the datasets. The data retrieved was all object type, and included various extra characters/spaces/formating (mostly for user readability, but not good for modeling/filtering).  The below data will be cleaned and utilized in a dashboard where a user can choose a range of characteristics and the dashboard will only display those trails within the user-selected features. \n",
    "\n",
    "This data will also be utilized in a subsequent notebook for a feature-based content recommender system.\n",
    "\n",
    "#### Reading in Arizona Trail Data"
   ]
  },
  {
   "cell_type": "code",
   "execution_count": 175,
   "metadata": {},
   "outputs": [
    {
     "data": {
      "text/plain": [
       "(956, 21)"
      ]
     },
     "execution_count": 175,
     "metadata": {},
     "output_type": "execute_result"
    }
   ],
   "source": [
    "az = pd.read_csv('./data/raw_trail_data/arizona_trails.csv')\n",
    "az.shape"
   ]
  },
  {
   "cell_type": "code",
   "execution_count": 176,
   "metadata": {},
   "outputs": [
    {
     "data": {
      "text/html": [
       "<div>\n",
       "<style scoped>\n",
       "    .dataframe tbody tr th:only-of-type {\n",
       "        vertical-align: middle;\n",
       "    }\n",
       "\n",
       "    .dataframe tbody tr th {\n",
       "        vertical-align: top;\n",
       "    }\n",
       "\n",
       "    .dataframe thead th {\n",
       "        text-align: right;\n",
       "    }\n",
       "</style>\n",
       "<table border=\"1\" class=\"dataframe\">\n",
       "  <thead>\n",
       "    <tr style=\"text-align: right;\">\n",
       "      <th></th>\n",
       "      <th>trail_name</th>\n",
       "      <th>length</th>\n",
       "      <th>difficulty</th>\n",
       "      <th>longitude</th>\n",
       "      <th>latitude</th>\n",
       "      <th>trail_link</th>\n",
       "      <th>city</th>\n",
       "      <th>popularity</th>\n",
       "      <th>rating</th>\n",
       "      <th>local_club</th>\n",
       "      <th>...</th>\n",
       "      <th>land_manager</th>\n",
       "      <th>land_manager_site</th>\n",
       "      <th>tot_climb</th>\n",
       "      <th>tot_descent</th>\n",
       "      <th>ave_grade</th>\n",
       "      <th>max_grade</th>\n",
       "      <th>max_elevation</th>\n",
       "      <th>min_elevation</th>\n",
       "      <th>dog_policy</th>\n",
       "      <th>e_bike_policy</th>\n",
       "    </tr>\n",
       "  </thead>\n",
       "  <tbody>\n",
       "    <tr>\n",
       "      <th>0</th>\n",
       "      <td>Hiline Trail</td>\n",
       "      <td>3.1\\n    mi</td>\n",
       "      <td>VERY DIFFICULT</td>\n",
       "      <td>34.804602</td>\n",
       "      <td>-111.771244</td>\n",
       "      <td>https://www.mtbproject.com/trail/593534/hiline...</td>\n",
       "      <td>Village of Oak Creek (Big Park), AZ</td>\n",
       "      <td>#1</td>\n",
       "      <td>4.7 (123)</td>\n",
       "      <td>Verde Valley Cyclists Coalition</td>\n",
       "      <td>...</td>\n",
       "      <td>USFS - Coconino National Forest Office</td>\n",
       "      <td>http://www.fs.usda.gov/coconino</td>\n",
       "      <td>326'</td>\n",
       "      <td>695'</td>\n",
       "      <td>6%</td>\n",
       "      <td>35%</td>\n",
       "      <td>4,646'</td>\n",
       "      <td>4,086'</td>\n",
       "      <td>Unknown</td>\n",
       "      <td>Unknown</td>\n",
       "    </tr>\n",
       "    <tr>\n",
       "      <th>1</th>\n",
       "      <td>Slim Shady Trail</td>\n",
       "      <td>2.6\\n    mi</td>\n",
       "      <td>INTERMEDIATE/DIFFICULT</td>\n",
       "      <td>34.790166</td>\n",
       "      <td>-111.765576</td>\n",
       "      <td>https://www.mtbproject.com/trail/593708/slim-s...</td>\n",
       "      <td>Village of Oak Creek (Big Park), AZ</td>\n",
       "      <td>#2</td>\n",
       "      <td>4.4 (112)</td>\n",
       "      <td>Verde Valley Cyclists Coalition</td>\n",
       "      <td>...</td>\n",
       "      <td>USFS - Coconino National Forest Office</td>\n",
       "      <td>http://www.fs.usda.gov/coconino</td>\n",
       "      <td>265'</td>\n",
       "      <td>264'</td>\n",
       "      <td>4%</td>\n",
       "      <td>11%</td>\n",
       "      <td>4,464'</td>\n",
       "      <td>4,202'</td>\n",
       "      <td>Unknown</td>\n",
       "      <td>Unknown</td>\n",
       "    </tr>\n",
       "    <tr>\n",
       "      <th>2</th>\n",
       "      <td>Mescal</td>\n",
       "      <td>2.4\\n    mi</td>\n",
       "      <td>INTERMEDIATE/DIFFICULT</td>\n",
       "      <td>34.906801</td>\n",
       "      <td>-111.824568</td>\n",
       "      <td>https://www.mtbproject.com/trail/4960011/mescal</td>\n",
       "      <td>West Sedona, AZ</td>\n",
       "      <td>#3</td>\n",
       "      <td>4.6 (63)</td>\n",
       "      <td>Verde Valley Cyclists Coalition</td>\n",
       "      <td>...</td>\n",
       "      <td>USFS - Coconino National Forest Office</td>\n",
       "      <td>http://www.fs.usda.gov/coconino</td>\n",
       "      <td>206'</td>\n",
       "      <td>166'</td>\n",
       "      <td>3%</td>\n",
       "      <td>11%</td>\n",
       "      <td>4,710'</td>\n",
       "      <td>4,520'</td>\n",
       "      <td>Unknown</td>\n",
       "      <td>Unknown</td>\n",
       "    </tr>\n",
       "    <tr>\n",
       "      <th>3</th>\n",
       "      <td>Chuckwagon</td>\n",
       "      <td>5.4\\n    mi</td>\n",
       "      <td>INTERMEDIATE</td>\n",
       "      <td>34.906632</td>\n",
       "      <td>-111.823948</td>\n",
       "      <td>https://www.mtbproject.com/trail/4960774/chuck...</td>\n",
       "      <td>West Sedona, AZ</td>\n",
       "      <td>#4</td>\n",
       "      <td>4.5 (63)</td>\n",
       "      <td>Verde Valley Cyclists Coalition</td>\n",
       "      <td>...</td>\n",
       "      <td>USFS - Coconino National Forest Office</td>\n",
       "      <td>http://www.fs.usda.gov/coconino</td>\n",
       "      <td>559'</td>\n",
       "      <td>489'</td>\n",
       "      <td>4%</td>\n",
       "      <td>13%</td>\n",
       "      <td>4,679'</td>\n",
       "      <td>4,499'</td>\n",
       "      <td>Unknown</td>\n",
       "      <td>Unknown</td>\n",
       "    </tr>\n",
       "    <tr>\n",
       "      <th>4</th>\n",
       "      <td>Tortolita Preserve Loop</td>\n",
       "      <td>9.7\\n    mi</td>\n",
       "      <td>INTERMEDIATE</td>\n",
       "      <td>32.439082</td>\n",
       "      <td>-111.098523</td>\n",
       "      <td>https://www.mtbproject.com/trail/6390787/torto...</td>\n",
       "      <td>Tortolita, AZ</td>\n",
       "      <td>#5</td>\n",
       "      <td>4.2 (66)</td>\n",
       "      <td>Sonoran Desert Mountain Bicyclists</td>\n",
       "      <td>...</td>\n",
       "      <td>Pima County - Natural Resources, Parks and Rec...</td>\n",
       "      <td>http://webcms.pima.gov/government/natural_reso...</td>\n",
       "      <td>520'</td>\n",
       "      <td>520'</td>\n",
       "      <td>2%</td>\n",
       "      <td>4%</td>\n",
       "      <td>2,804'</td>\n",
       "      <td>2,326'</td>\n",
       "      <td>Unknown</td>\n",
       "      <td>Unknown</td>\n",
       "    </tr>\n",
       "  </tbody>\n",
       "</table>\n",
       "<p>5 rows × 21 columns</p>\n",
       "</div>"
      ],
      "text/plain": [
       "                trail_name       length              difficulty  longitude  \\\n",
       "0             Hiline Trail  3.1\\n    mi          VERY DIFFICULT  34.804602   \n",
       "1         Slim Shady Trail  2.6\\n    mi  INTERMEDIATE/DIFFICULT  34.790166   \n",
       "2                   Mescal  2.4\\n    mi  INTERMEDIATE/DIFFICULT  34.906801   \n",
       "3               Chuckwagon  5.4\\n    mi            INTERMEDIATE  34.906632   \n",
       "4  Tortolita Preserve Loop  9.7\\n    mi            INTERMEDIATE  32.439082   \n",
       "\n",
       "     latitude                                         trail_link  \\\n",
       "0 -111.771244  https://www.mtbproject.com/trail/593534/hiline...   \n",
       "1 -111.765576  https://www.mtbproject.com/trail/593708/slim-s...   \n",
       "2 -111.824568    https://www.mtbproject.com/trail/4960011/mescal   \n",
       "3 -111.823948  https://www.mtbproject.com/trail/4960774/chuck...   \n",
       "4 -111.098523  https://www.mtbproject.com/trail/6390787/torto...   \n",
       "\n",
       "                                  city popularity     rating  \\\n",
       "0  Village of Oak Creek (Big Park), AZ         #1  4.7 (123)   \n",
       "1  Village of Oak Creek (Big Park), AZ         #2  4.4 (112)   \n",
       "2                      West Sedona, AZ         #3   4.6 (63)   \n",
       "3                      West Sedona, AZ         #4   4.5 (63)   \n",
       "4                        Tortolita, AZ         #5   4.2 (66)   \n",
       "\n",
       "                           local_club  ...  \\\n",
       "0     Verde Valley Cyclists Coalition  ...   \n",
       "1     Verde Valley Cyclists Coalition  ...   \n",
       "2     Verde Valley Cyclists Coalition  ...   \n",
       "3     Verde Valley Cyclists Coalition  ...   \n",
       "4  Sonoran Desert Mountain Bicyclists  ...   \n",
       "\n",
       "                                        land_manager  \\\n",
       "0             USFS - Coconino National Forest Office   \n",
       "1             USFS - Coconino National Forest Office   \n",
       "2             USFS - Coconino National Forest Office   \n",
       "3             USFS - Coconino National Forest Office   \n",
       "4  Pima County - Natural Resources, Parks and Rec...   \n",
       "\n",
       "                                   land_manager_site tot_climb tot_descent  \\\n",
       "0                    http://www.fs.usda.gov/coconino      326'        695'   \n",
       "1                    http://www.fs.usda.gov/coconino      265'        264'   \n",
       "2                    http://www.fs.usda.gov/coconino      206'        166'   \n",
       "3                    http://www.fs.usda.gov/coconino      559'        489'   \n",
       "4  http://webcms.pima.gov/government/natural_reso...      520'        520'   \n",
       "\n",
       "  ave_grade max_grade max_elevation min_elevation dog_policy e_bike_policy  \n",
       "0        6%       35%        4,646'        4,086'    Unknown       Unknown  \n",
       "1        4%       11%        4,464'        4,202'    Unknown       Unknown  \n",
       "2        3%       11%        4,710'        4,520'    Unknown       Unknown  \n",
       "3        4%       13%        4,679'        4,499'    Unknown       Unknown  \n",
       "4        2%        4%        2,804'        2,326'    Unknown       Unknown  \n",
       "\n",
       "[5 rows x 21 columns]"
      ]
     },
     "execution_count": 176,
     "metadata": {},
     "output_type": "execute_result"
    }
   ],
   "source": [
    "az.head()"
   ]
  },
  {
   "cell_type": "markdown",
   "metadata": {},
   "source": [
    "#### Reading in Utah Trail Data"
   ]
  },
  {
   "cell_type": "code",
   "execution_count": 177,
   "metadata": {},
   "outputs": [
    {
     "data": {
      "text/plain": [
       "(933, 21)"
      ]
     },
     "execution_count": 177,
     "metadata": {},
     "output_type": "execute_result"
    }
   ],
   "source": [
    "ut = pd.read_csv('./data/raw_trail_data/utah_trails.csv')\n",
    "ut.shape"
   ]
  },
  {
   "cell_type": "code",
   "execution_count": 178,
   "metadata": {},
   "outputs": [
    {
     "data": {
      "text/html": [
       "<div>\n",
       "<style scoped>\n",
       "    .dataframe tbody tr th:only-of-type {\n",
       "        vertical-align: middle;\n",
       "    }\n",
       "\n",
       "    .dataframe tbody tr th {\n",
       "        vertical-align: top;\n",
       "    }\n",
       "\n",
       "    .dataframe thead th {\n",
       "        text-align: right;\n",
       "    }\n",
       "</style>\n",
       "<table border=\"1\" class=\"dataframe\">\n",
       "  <thead>\n",
       "    <tr style=\"text-align: right;\">\n",
       "      <th></th>\n",
       "      <th>trail_name</th>\n",
       "      <th>length</th>\n",
       "      <th>difficulty</th>\n",
       "      <th>longitude</th>\n",
       "      <th>latitude</th>\n",
       "      <th>trail_link</th>\n",
       "      <th>city</th>\n",
       "      <th>popularity</th>\n",
       "      <th>rating</th>\n",
       "      <th>local_club</th>\n",
       "      <th>...</th>\n",
       "      <th>land_manager</th>\n",
       "      <th>land_manager_site</th>\n",
       "      <th>tot_climb</th>\n",
       "      <th>tot_descent</th>\n",
       "      <th>ave_grade</th>\n",
       "      <th>max_grade</th>\n",
       "      <th>max_elevation</th>\n",
       "      <th>min_elevation</th>\n",
       "      <th>dog_policy</th>\n",
       "      <th>e_bike_policy</th>\n",
       "    </tr>\n",
       "  </thead>\n",
       "  <tbody>\n",
       "    <tr>\n",
       "      <th>0</th>\n",
       "      <td>Thunder Mountain Trail #33098</td>\n",
       "      <td>8.1\\n    mi</td>\n",
       "      <td>INTERMEDIATE/DIFFICULT</td>\n",
       "      <td>37.702572</td>\n",
       "      <td>-112.279340</td>\n",
       "      <td>https://www.mtbproject.com/trail/1868735/thund...</td>\n",
       "      <td>Panguitch, UT</td>\n",
       "      <td>#1</td>\n",
       "      <td>4.7 (87)</td>\n",
       "      <td>Trail Alliance of Southern Utah (TASU)</td>\n",
       "      <td>...</td>\n",
       "      <td>USFS - Dixie National Forest Office</td>\n",
       "      <td>http://www.fs.usda.gov/dixie</td>\n",
       "      <td>689'</td>\n",
       "      <td>1,681'</td>\n",
       "      <td>6%</td>\n",
       "      <td>27%</td>\n",
       "      <td>8,263'</td>\n",
       "      <td>7,084'</td>\n",
       "      <td>Off-leash</td>\n",
       "      <td>Unknown</td>\n",
       "    </tr>\n",
       "    <tr>\n",
       "      <th>1</th>\n",
       "      <td>Wasatch Crest</td>\n",
       "      <td>12.5\\n    mi</td>\n",
       "      <td>INTERMEDIATE/DIFFICULT</td>\n",
       "      <td>40.613847</td>\n",
       "      <td>-111.570911</td>\n",
       "      <td>https://www.mtbproject.com/trail/3654027/wasat...</td>\n",
       "      <td>Alta, UT</td>\n",
       "      <td>#2</td>\n",
       "      <td>4.8 (110)</td>\n",
       "      <td>NaN</td>\n",
       "      <td>...</td>\n",
       "      <td>NaN</td>\n",
       "      <td>NaN</td>\n",
       "      <td>1,084'</td>\n",
       "      <td>2,656'</td>\n",
       "      <td>6%</td>\n",
       "      <td>26%</td>\n",
       "      <td>9,882'</td>\n",
       "      <td>7,616'</td>\n",
       "      <td>No Dogs</td>\n",
       "      <td>Not Allowed</td>\n",
       "    </tr>\n",
       "    <tr>\n",
       "      <th>2</th>\n",
       "      <td>Captain Ahab</td>\n",
       "      <td>4.2\\n    mi</td>\n",
       "      <td>DIFFICULT</td>\n",
       "      <td>38.518172</td>\n",
       "      <td>-109.618450</td>\n",
       "      <td>https://www.mtbproject.com/trail/648766/captai...</td>\n",
       "      <td>Moab, UT</td>\n",
       "      <td>#3</td>\n",
       "      <td>4.7 (128)</td>\n",
       "      <td>NaN</td>\n",
       "      <td>...</td>\n",
       "      <td>NaN</td>\n",
       "      <td>NaN</td>\n",
       "      <td>326'</td>\n",
       "      <td>981'</td>\n",
       "      <td>6%</td>\n",
       "      <td>23%</td>\n",
       "      <td>4,898'</td>\n",
       "      <td>4,034'</td>\n",
       "      <td>Leashed</td>\n",
       "      <td>Not Allowed</td>\n",
       "    </tr>\n",
       "    <tr>\n",
       "      <th>3</th>\n",
       "      <td>Wire Mesa Loop</td>\n",
       "      <td>7.4\\n    mi</td>\n",
       "      <td>INTERMEDIATE/DIFFICULT</td>\n",
       "      <td>37.132839</td>\n",
       "      <td>-113.071259</td>\n",
       "      <td>https://www.mtbproject.com/trail/7021693/wire-...</td>\n",
       "      <td>Springdale, UT</td>\n",
       "      <td>#4</td>\n",
       "      <td>4.6 (122)</td>\n",
       "      <td>NaN</td>\n",
       "      <td>...</td>\n",
       "      <td>NaN</td>\n",
       "      <td>NaN</td>\n",
       "      <td>428'</td>\n",
       "      <td>415'</td>\n",
       "      <td>2%</td>\n",
       "      <td>12%</td>\n",
       "      <td>4,502'</td>\n",
       "      <td>4,326'</td>\n",
       "      <td>Unknown</td>\n",
       "      <td>Allowed</td>\n",
       "    </tr>\n",
       "    <tr>\n",
       "      <th>4</th>\n",
       "      <td>Ramblin'</td>\n",
       "      <td>3.3\\n    mi</td>\n",
       "      <td>INTERMEDIATE/DIFFICULT</td>\n",
       "      <td>38.637614</td>\n",
       "      <td>-109.784979</td>\n",
       "      <td>https://www.mtbproject.com/trail/7000569/ramblin</td>\n",
       "      <td>Moab, UT</td>\n",
       "      <td>#5</td>\n",
       "      <td>4.7 (92)</td>\n",
       "      <td>NaN</td>\n",
       "      <td>...</td>\n",
       "      <td>NaN</td>\n",
       "      <td>NaN</td>\n",
       "      <td>195'</td>\n",
       "      <td>398'</td>\n",
       "      <td>3%</td>\n",
       "      <td>12%</td>\n",
       "      <td>5,279'</td>\n",
       "      <td>4,971'</td>\n",
       "      <td>Leashed</td>\n",
       "      <td>Not Allowed</td>\n",
       "    </tr>\n",
       "  </tbody>\n",
       "</table>\n",
       "<p>5 rows × 21 columns</p>\n",
       "</div>"
      ],
      "text/plain": [
       "                      trail_name        length              difficulty  \\\n",
       "0  Thunder Mountain Trail #33098   8.1\\n    mi  INTERMEDIATE/DIFFICULT   \n",
       "1                  Wasatch Crest  12.5\\n    mi  INTERMEDIATE/DIFFICULT   \n",
       "2                   Captain Ahab   4.2\\n    mi               DIFFICULT   \n",
       "3                 Wire Mesa Loop   7.4\\n    mi  INTERMEDIATE/DIFFICULT   \n",
       "4                       Ramblin'   3.3\\n    mi  INTERMEDIATE/DIFFICULT   \n",
       "\n",
       "   longitude    latitude                                         trail_link  \\\n",
       "0  37.702572 -112.279340  https://www.mtbproject.com/trail/1868735/thund...   \n",
       "1  40.613847 -111.570911  https://www.mtbproject.com/trail/3654027/wasat...   \n",
       "2  38.518172 -109.618450  https://www.mtbproject.com/trail/648766/captai...   \n",
       "3  37.132839 -113.071259  https://www.mtbproject.com/trail/7021693/wire-...   \n",
       "4  38.637614 -109.784979   https://www.mtbproject.com/trail/7000569/ramblin   \n",
       "\n",
       "             city popularity     rating  \\\n",
       "0   Panguitch, UT         #1   4.7 (87)   \n",
       "1        Alta, UT         #2  4.8 (110)   \n",
       "2        Moab, UT         #3  4.7 (128)   \n",
       "3  Springdale, UT         #4  4.6 (122)   \n",
       "4        Moab, UT         #5   4.7 (92)   \n",
       "\n",
       "                               local_club  ...  \\\n",
       "0  Trail Alliance of Southern Utah (TASU)  ...   \n",
       "1                                     NaN  ...   \n",
       "2                                     NaN  ...   \n",
       "3                                     NaN  ...   \n",
       "4                                     NaN  ...   \n",
       "\n",
       "                          land_manager             land_manager_site  \\\n",
       "0  USFS - Dixie National Forest Office  http://www.fs.usda.gov/dixie   \n",
       "1                                  NaN                           NaN   \n",
       "2                                  NaN                           NaN   \n",
       "3                                  NaN                           NaN   \n",
       "4                                  NaN                           NaN   \n",
       "\n",
       "  tot_climb tot_descent ave_grade max_grade max_elevation min_elevation  \\\n",
       "0      689'      1,681'        6%       27%        8,263'        7,084'   \n",
       "1    1,084'      2,656'        6%       26%        9,882'        7,616'   \n",
       "2      326'        981'        6%       23%        4,898'        4,034'   \n",
       "3      428'        415'        2%       12%        4,502'        4,326'   \n",
       "4      195'        398'        3%       12%        5,279'        4,971'   \n",
       "\n",
       "  dog_policy e_bike_policy  \n",
       "0  Off-leash       Unknown  \n",
       "1    No Dogs   Not Allowed  \n",
       "2    Leashed   Not Allowed  \n",
       "3    Unknown       Allowed  \n",
       "4    Leashed   Not Allowed  \n",
       "\n",
       "[5 rows x 21 columns]"
      ]
     },
     "execution_count": 178,
     "metadata": {},
     "output_type": "execute_result"
    }
   ],
   "source": [
    "ut.head()"
   ]
  },
  {
   "cell_type": "markdown",
   "metadata": {},
   "source": [
    "<a id='trailaz'></a>\n",
    "#### Arizona and Utah Trail Data Cleaning\n",
    "\n",
    "**Extra Characters, DTypes, Scaling**"
   ]
  },
  {
   "cell_type": "code",
   "execution_count": 179,
   "metadata": {},
   "outputs": [],
   "source": [
    "# trail data cleaning function\n",
    "\n",
    "def trail_cleaning(df):\n",
    "    # removing extra characters from 'length' and converting to float\n",
    "    df['length']= (df['length'].str.replace('\\n    mi','')).astype(float)\n",
    "\n",
    "    # removing extra characters from 'city'\n",
    "    df['city']= (df['city'].str.replace(', AZ',''))\n",
    "    \n",
    "    # setting text to lowercase for 'trail name'\n",
    "    df['trail_name']=df['trail_name'].str.lower()\n",
    "    \n",
    "    # removing extra characters from 'rating' replacing 'nan' with 0, and converting to float\n",
    "    df['rating'] = df['rating'].astype(str).str[:3].str.replace('nan','0').astype(float) \n",
    "\n",
    "    # removing '#' from 'arizona_rating' and scaling ranking from 0-1\n",
    "    df['popularity']= (1-MinMaxScaler().fit_transform(df['popularity'].str.replace('#','').astype(float).values.reshape(-1,1)))\n",
    "\n",
    "    # removing extra characters and converting to float for climb, descent, and elevation columns\n",
    "    cols = ['tot_climb', 'tot_descent', 'max_elevation', 'min_elevation']\n",
    "    # passing replacement and float type to each column\n",
    "    df[cols] = df[cols].replace({\",\":\"\", \"'\":\"\"}, regex=True).astype(float)\n",
    "\n",
    "    # dropping '%' from ave and max_grade columns\n",
    "    cols1 = ['ave_grade', 'max_grade']\n",
    "    # passing replacement and float type to each column\n",
    "    df[cols1] = df[cols1].replace({\"%\":\"\"}, regex=True).astype(float)\n",
    "    \n",
    "    #dropping duplicate rows (trails names)\n",
    "    df = df.drop_duplicates(subset='trail_name', keep='first', inplace= True)\n",
    "    \n",
    "    return"
   ]
  },
  {
   "cell_type": "code",
   "execution_count": 180,
   "metadata": {},
   "outputs": [],
   "source": [
    "trail_cleaning(az)"
   ]
  },
  {
   "cell_type": "code",
   "execution_count": 181,
   "metadata": {},
   "outputs": [],
   "source": [
    "trail_cleaning(ut)"
   ]
  },
  {
   "cell_type": "code",
   "execution_count": 182,
   "metadata": {},
   "outputs": [],
   "source": [
    "# preserve an unscalled version of Arizona trail data for filtering dashboard \n",
    "az_trails = az.copy()\n",
    "az_trails1 = az_trails.drop(['local_club_site', 'land_manager', 'land_manager_site', 'longitude', 'latitude'] , axis = 1)\n",
    "az_trails1.to_csv( \"./data/trail_dashboard/az_trails.csv\", index=False)\n",
    "\n",
    "# preserve an unscalled version of Utah trail data for filtering dashboard\n",
    "ut_trails = ut.copy()\n",
    "ut_trails1 = ut_trails.drop(['local_club_site', 'land_manager', 'land_manager_site', 'longitude', 'latitude'] , axis = 1)\n",
    "ut_trails1.to_csv( \"./data/trail_dashboard/ut_trails.csv\", index=False)"
   ]
  },
  {
   "cell_type": "markdown",
   "metadata": {},
   "source": [
    "<a id='imputeaz'></a>\n",
    "#### Further Processing for Recommender System\n",
    "**Imputing Nulls**"
   ]
  },
  {
   "cell_type": "code",
   "execution_count": 183,
   "metadata": {},
   "outputs": [
    {
     "data": {
      "text/plain": [
       "trail_name             0\n",
       "length                 0\n",
       "difficulty             0\n",
       "longitude             11\n",
       "latitude              11\n",
       "trail_link             0\n",
       "city                   0\n",
       "popularity             0\n",
       "rating                 0\n",
       "local_club           365\n",
       "local_club_site      365\n",
       "land_manager         622\n",
       "land_manager_site    622\n",
       "tot_climb             16\n",
       "tot_descent           16\n",
       "ave_grade             16\n",
       "max_grade             16\n",
       "max_elevation         16\n",
       "min_elevation         16\n",
       "dog_policy            27\n",
       "e_bike_policy         16\n",
       "dtype: int64"
      ]
     },
     "execution_count": 183,
     "metadata": {},
     "output_type": "execute_result"
    }
   ],
   "source": [
    "az_trails.isnull().sum()"
   ]
  },
  {
   "cell_type": "code",
   "execution_count": 184,
   "metadata": {},
   "outputs": [
    {
     "data": {
      "text/plain": [
       "trail_name             0\n",
       "length                 0\n",
       "difficulty             0\n",
       "longitude              4\n",
       "latitude               4\n",
       "trail_link             0\n",
       "city                   0\n",
       "popularity             0\n",
       "rating                 0\n",
       "local_club           408\n",
       "local_club_site      408\n",
       "land_manager         718\n",
       "land_manager_site    718\n",
       "tot_climb              0\n",
       "tot_descent            0\n",
       "ave_grade              0\n",
       "max_grade              0\n",
       "max_elevation          0\n",
       "min_elevation          0\n",
       "dog_policy            11\n",
       "e_bike_policy          0\n",
       "dtype: int64"
      ]
     },
     "execution_count": 184,
     "metadata": {},
     "output_type": "execute_result"
    }
   ],
   "source": [
    "ut_trails.isnull().sum()"
   ]
  },
  {
   "cell_type": "markdown",
   "metadata": {},
   "source": [
    "\n",
    "#### Imputing club, land manager, dog and e-bike missing information with 'Unknown'"
   ]
  },
  {
   "cell_type": "code",
   "execution_count": 185,
   "metadata": {},
   "outputs": [],
   "source": [
    "features=['local_club', 'local_club_site', 'land_manager', 'land_manager_site', 'dog_policy', 'e_bike_policy']\n",
    "for i in features:\n",
    "    az_trails[i].fillna('Unknown', inplace = True)\n",
    "    ut_trails[i].fillna('Unknown', inplace = True)"
   ]
  },
  {
   "cell_type": "markdown",
   "metadata": {},
   "source": [
    "#### Utilizing KNN Imputation for various missing trail statistics\n",
    "\n",
    "This information is assumed 'Missing at Random'. The data is not systematically different from other points, and it is more likely that user-generated data just hasn't been collected yet. KNN Imputation should do a great job replacing missing data."
   ]
  },
  {
   "cell_type": "code",
   "execution_count": 186,
   "metadata": {},
   "outputs": [],
   "source": [
    "# scaling data to bring imputations onto a level playing field\n",
    "features = ['longitude', 'latitude','tot_climb', 'tot_descent', 'ave_grade', 'max_grade', 'max_elevation', 'min_elevation','length', 'rating']\n",
    "az_trails[features]= (MinMaxScaler().fit_transform(az[features]))\n",
    "ut_trails[features]= (MinMaxScaler().fit_transform(ut[features]))\n",
    "\n",
    "imp_features = ['tot_climb', 'tot_descent', 'ave_grade', 'max_grade', 'max_elevation', 'min_elevation']\n",
    "# utilizing KNNImputer with 5 neighbors to fill in missing data for 'features'.\n",
    "imputer = KNNImputer(n_neighbors=5)\n",
    "az_trails[imp_features] = pd.DataFrame(imputer.fit_transform(az_trails[imp_features]))\n",
    "ut_trails[imp_features] = pd.DataFrame(imputer.fit_transform(ut_trails[imp_features]))"
   ]
  },
  {
   "cell_type": "code",
   "execution_count": 187,
   "metadata": {},
   "outputs": [],
   "source": [
    "# dropping columns not needed for recommender\n",
    "column =['local_club','local_club_site','land_manager','land_manager_site', 'trail_link', 'city']\n",
    "az_trails.drop(columns =column, inplace=True)\n",
    "ut_trails.drop(columns =column, inplace=True)"
   ]
  },
  {
   "cell_type": "markdown",
   "metadata": {},
   "source": [
    "**One Hot Encoding (pd.getdummies) 'city', 'dog_policy', 'e_bike_policy'**"
   ]
  },
  {
   "cell_type": "code",
   "execution_count": 188,
   "metadata": {},
   "outputs": [],
   "source": [
    "# creating a list of features to convert to dummy columns\n",
    "column=['difficulty', 'dog_policy', 'e_bike_policy']\n",
    "\n",
    "dummies = pd.get_dummies(az_trails, columns=column)\n",
    "az_trails = dummies\n",
    "az_trails.columns = map(str.lower, az_trails.columns)\n",
    "dummies = pd.get_dummies(ut_trails, columns=column)\n",
    "ut_trails = dummies\n",
    "ut_trails.columns = map(str.lower, ut_trails.columns)"
   ]
  },
  {
   "cell_type": "markdown",
   "metadata": {},
   "source": [
    "### Checking in on the DataFrames"
   ]
  },
  {
   "cell_type": "code",
   "execution_count": 189,
   "metadata": {},
   "outputs": [
    {
     "data": {
      "text/html": [
       "<div>\n",
       "<style scoped>\n",
       "    .dataframe tbody tr th:only-of-type {\n",
       "        vertical-align: middle;\n",
       "    }\n",
       "\n",
       "    .dataframe tbody tr th {\n",
       "        vertical-align: top;\n",
       "    }\n",
       "\n",
       "    .dataframe thead th {\n",
       "        text-align: right;\n",
       "    }\n",
       "</style>\n",
       "<table border=\"1\" class=\"dataframe\">\n",
       "  <thead>\n",
       "    <tr style=\"text-align: right;\">\n",
       "      <th></th>\n",
       "      <th>trail_name</th>\n",
       "      <th>length</th>\n",
       "      <th>longitude</th>\n",
       "      <th>latitude</th>\n",
       "      <th>popularity</th>\n",
       "      <th>rating</th>\n",
       "      <th>tot_climb</th>\n",
       "      <th>tot_descent</th>\n",
       "      <th>ave_grade</th>\n",
       "      <th>max_grade</th>\n",
       "      <th>...</th>\n",
       "      <th>difficulty_intermediate</th>\n",
       "      <th>difficulty_intermediate/difficult</th>\n",
       "      <th>difficulty_very difficult</th>\n",
       "      <th>dog_policy_leashed</th>\n",
       "      <th>dog_policy_no dogs</th>\n",
       "      <th>dog_policy_off-leash</th>\n",
       "      <th>dog_policy_unknown</th>\n",
       "      <th>e_bike_policy_allowed</th>\n",
       "      <th>e_bike_policy_not allowed</th>\n",
       "      <th>e_bike_policy_unknown</th>\n",
       "    </tr>\n",
       "  </thead>\n",
       "  <tbody>\n",
       "    <tr>\n",
       "      <th>0</th>\n",
       "      <td>hiline trail</td>\n",
       "      <td>0.022399</td>\n",
       "      <td>0.619678</td>\n",
       "      <td>0.507727</td>\n",
       "      <td>1.000000</td>\n",
       "      <td>0.94</td>\n",
       "      <td>0.022963</td>\n",
       "      <td>0.057739</td>\n",
       "      <td>0.315789</td>\n",
       "      <td>0.357143</td>\n",
       "      <td>...</td>\n",
       "      <td>0</td>\n",
       "      <td>0</td>\n",
       "      <td>1</td>\n",
       "      <td>0</td>\n",
       "      <td>0</td>\n",
       "      <td>0</td>\n",
       "      <td>1</td>\n",
       "      <td>0</td>\n",
       "      <td>0</td>\n",
       "      <td>1</td>\n",
       "    </tr>\n",
       "    <tr>\n",
       "      <th>1</th>\n",
       "      <td>slim shady trail</td>\n",
       "      <td>0.018786</td>\n",
       "      <td>0.617100</td>\n",
       "      <td>0.508725</td>\n",
       "      <td>0.998953</td>\n",
       "      <td>0.88</td>\n",
       "      <td>0.018666</td>\n",
       "      <td>0.021932</td>\n",
       "      <td>0.210526</td>\n",
       "      <td>0.112245</td>\n",
       "      <td>...</td>\n",
       "      <td>0</td>\n",
       "      <td>1</td>\n",
       "      <td>0</td>\n",
       "      <td>0</td>\n",
       "      <td>0</td>\n",
       "      <td>0</td>\n",
       "      <td>1</td>\n",
       "      <td>0</td>\n",
       "      <td>0</td>\n",
       "      <td>1</td>\n",
       "    </tr>\n",
       "  </tbody>\n",
       "</table>\n",
       "<p>2 rows × 25 columns</p>\n",
       "</div>"
      ],
      "text/plain": [
       "         trail_name    length  longitude  latitude  popularity  rating  \\\n",
       "0      hiline trail  0.022399   0.619678  0.507727    1.000000    0.94   \n",
       "1  slim shady trail  0.018786   0.617100  0.508725    0.998953    0.88   \n",
       "\n",
       "   tot_climb  tot_descent  ave_grade  max_grade  ...  difficulty_intermediate  \\\n",
       "0   0.022963     0.057739   0.315789   0.357143  ...                        0   \n",
       "1   0.018666     0.021932   0.210526   0.112245  ...                        0   \n",
       "\n",
       "   difficulty_intermediate/difficult  difficulty_very difficult  \\\n",
       "0                                  0                          1   \n",
       "1                                  1                          0   \n",
       "\n",
       "   dog_policy_leashed  dog_policy_no dogs  dog_policy_off-leash  \\\n",
       "0                   0                   0                     0   \n",
       "1                   0                   0                     0   \n",
       "\n",
       "   dog_policy_unknown  e_bike_policy_allowed  e_bike_policy_not allowed  \\\n",
       "0                   1                      0                          0   \n",
       "1                   1                      0                          0   \n",
       "\n",
       "   e_bike_policy_unknown  \n",
       "0                      1  \n",
       "1                      1  \n",
       "\n",
       "[2 rows x 25 columns]"
      ]
     },
     "execution_count": 189,
     "metadata": {},
     "output_type": "execute_result"
    }
   ],
   "source": [
    "az_trails.head(2)"
   ]
  },
  {
   "cell_type": "code",
   "execution_count": 190,
   "metadata": {},
   "outputs": [
    {
     "data": {
      "text/html": [
       "<div>\n",
       "<style scoped>\n",
       "    .dataframe tbody tr th:only-of-type {\n",
       "        vertical-align: middle;\n",
       "    }\n",
       "\n",
       "    .dataframe tbody tr th {\n",
       "        vertical-align: top;\n",
       "    }\n",
       "\n",
       "    .dataframe thead th {\n",
       "        text-align: right;\n",
       "    }\n",
       "</style>\n",
       "<table border=\"1\" class=\"dataframe\">\n",
       "  <thead>\n",
       "    <tr style=\"text-align: right;\">\n",
       "      <th></th>\n",
       "      <th>trail_name</th>\n",
       "      <th>length</th>\n",
       "      <th>longitude</th>\n",
       "      <th>latitude</th>\n",
       "      <th>popularity</th>\n",
       "      <th>rating</th>\n",
       "      <th>tot_climb</th>\n",
       "      <th>tot_descent</th>\n",
       "      <th>ave_grade</th>\n",
       "      <th>max_grade</th>\n",
       "      <th>...</th>\n",
       "      <th>difficulty_intermediate</th>\n",
       "      <th>difficulty_intermediate/difficult</th>\n",
       "      <th>difficulty_very difficult</th>\n",
       "      <th>dog_policy_leashed</th>\n",
       "      <th>dog_policy_no dogs</th>\n",
       "      <th>dog_policy_off-leash</th>\n",
       "      <th>dog_policy_unknown</th>\n",
       "      <th>e_bike_policy_allowed</th>\n",
       "      <th>e_bike_policy_not allowed</th>\n",
       "      <th>e_bike_policy_unknown</th>\n",
       "    </tr>\n",
       "  </thead>\n",
       "  <tbody>\n",
       "    <tr>\n",
       "      <th>0</th>\n",
       "      <td>thunder mountain trail #33098</td>\n",
       "      <td>0.065165</td>\n",
       "      <td>0.140063</td>\n",
       "      <td>0.312952</td>\n",
       "      <td>1.000000</td>\n",
       "      <td>0.94</td>\n",
       "      <td>0.052217</td>\n",
       "      <td>0.148210</td>\n",
       "      <td>0.3</td>\n",
       "      <td>0.409091</td>\n",
       "      <td>...</td>\n",
       "      <td>0</td>\n",
       "      <td>1</td>\n",
       "      <td>0</td>\n",
       "      <td>0</td>\n",
       "      <td>0</td>\n",
       "      <td>1</td>\n",
       "      <td>0</td>\n",
       "      <td>0</td>\n",
       "      <td>0</td>\n",
       "      <td>1</td>\n",
       "    </tr>\n",
       "    <tr>\n",
       "      <th>1</th>\n",
       "      <td>wasatch crest</td>\n",
       "      <td>0.100563</td>\n",
       "      <td>0.726322</td>\n",
       "      <td>0.462306</td>\n",
       "      <td>0.998922</td>\n",
       "      <td>0.96</td>\n",
       "      <td>0.082152</td>\n",
       "      <td>0.234174</td>\n",
       "      <td>0.3</td>\n",
       "      <td>0.393939</td>\n",
       "      <td>...</td>\n",
       "      <td>0</td>\n",
       "      <td>1</td>\n",
       "      <td>0</td>\n",
       "      <td>0</td>\n",
       "      <td>1</td>\n",
       "      <td>0</td>\n",
       "      <td>0</td>\n",
       "      <td>0</td>\n",
       "      <td>1</td>\n",
       "      <td>0</td>\n",
       "    </tr>\n",
       "  </tbody>\n",
       "</table>\n",
       "<p>2 rows × 25 columns</p>\n",
       "</div>"
      ],
      "text/plain": [
       "                      trail_name    length  longitude  latitude  popularity  \\\n",
       "0  thunder mountain trail #33098  0.065165   0.140063  0.312952    1.000000   \n",
       "1                  wasatch crest  0.100563   0.726322  0.462306    0.998922   \n",
       "\n",
       "   rating  tot_climb  tot_descent  ave_grade  max_grade  ...  \\\n",
       "0    0.94   0.052217     0.148210        0.3   0.409091  ...   \n",
       "1    0.96   0.082152     0.234174        0.3   0.393939  ...   \n",
       "\n",
       "   difficulty_intermediate  difficulty_intermediate/difficult  \\\n",
       "0                        0                                  1   \n",
       "1                        0                                  1   \n",
       "\n",
       "   difficulty_very difficult  dog_policy_leashed  dog_policy_no dogs  \\\n",
       "0                          0                   0                   0   \n",
       "1                          0                   0                   1   \n",
       "\n",
       "   dog_policy_off-leash  dog_policy_unknown  e_bike_policy_allowed  \\\n",
       "0                     1                   0                      0   \n",
       "1                     0                   0                      0   \n",
       "\n",
       "   e_bike_policy_not allowed  e_bike_policy_unknown  \n",
       "0                          0                      1  \n",
       "1                          1                      0  \n",
       "\n",
       "[2 rows x 25 columns]"
      ]
     },
     "execution_count": 190,
     "metadata": {},
     "output_type": "execute_result"
    }
   ],
   "source": [
    "ut_trails.head(2)"
   ]
  },
  {
   "cell_type": "markdown",
   "metadata": {},
   "source": [
    "<a id='saveaz'></a>\n",
    "### Saving formatted Arizona Trials Dataframe for Modeling"
   ]
  },
  {
   "cell_type": "code",
   "execution_count": 191,
   "metadata": {},
   "outputs": [],
   "source": [
    "az_trails.to_csv( \"./data/recommender_data/az_trail_data.csv\", index=False)\n",
    "ut_trails.to_csv( \"./data/recommender_data/ut_trail_data.csv\", index=False)"
   ]
  },
  {
   "cell_type": "code",
   "execution_count": null,
   "metadata": {},
   "outputs": [],
   "source": [
    "dd"
   ]
  }
 ],
 "metadata": {
  "kernelspec": {
   "display_name": "Python 3",
   "language": "python",
   "name": "python3"
  },
  "language_info": {
   "codemirror_mode": {
    "name": "ipython",
    "version": 3
   },
   "file_extension": ".py",
   "mimetype": "text/x-python",
   "name": "python",
   "nbconvert_exporter": "python",
   "pygments_lexer": "ipython3",
   "version": "3.8.5"
  }
 },
 "nbformat": 4,
 "nbformat_minor": 4
}
