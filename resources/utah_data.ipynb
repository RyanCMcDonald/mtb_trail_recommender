{
 "cells": [
  {
   "cell_type": "code",
   "execution_count": null,
   "metadata": {},
   "outputs": [],
   "source": [
    "# Data for Utah for addition if time allows.\n",
    "# the below would go into the 01_data_compiling_cleaning page"
   ]
  },
  {
   "cell_type": "markdown",
   "metadata": {},
   "source": [
    "<a id='cleanut'></a>\n",
    "#### Utah User Data"
   ]
  },
  {
   "cell_type": "code",
   "execution_count": 601,
   "metadata": {},
   "outputs": [
    {
     "data": {
      "text/plain": [
       "(929, 2)"
      ]
     },
     "execution_count": 601,
     "metadata": {},
     "output_type": "execute_result"
    }
   ],
   "source": [
    "users_1 = pd.read_csv('./data/user_data/utah_trails_users.csv')\n",
    "users_1.shape"
   ]
  },
  {
   "cell_type": "code",
   "execution_count": 602,
   "metadata": {},
   "outputs": [
    {
     "data": {
      "text/html": [
       "<div>\n",
       "<style scoped>\n",
       "    .dataframe tbody tr th:only-of-type {\n",
       "        vertical-align: middle;\n",
       "    }\n",
       "\n",
       "    .dataframe tbody tr th {\n",
       "        vertical-align: top;\n",
       "    }\n",
       "\n",
       "    .dataframe thead th {\n",
       "        text-align: right;\n",
       "    }\n",
       "</style>\n",
       "<table border=\"1\" class=\"dataframe\">\n",
       "  <thead>\n",
       "    <tr style=\"text-align: right;\">\n",
       "      <th></th>\n",
       "      <th>trail_name</th>\n",
       "      <th>user_name</th>\n",
       "    </tr>\n",
       "  </thead>\n",
       "  <tbody>\n",
       "    <tr>\n",
       "      <th>0</th>\n",
       "      <td>Thunder Mountain Trail #33098</td>\n",
       "      <td>Stars                   Average: 4.7          ...</td>\n",
       "    </tr>\n",
       "    <tr>\n",
       "      <th>1</th>\n",
       "      <td>Wasatch Crest</td>\n",
       "      <td>Stars                   Average: 4.8          ...</td>\n",
       "    </tr>\n",
       "    <tr>\n",
       "      <th>2</th>\n",
       "      <td>Captain Ahab</td>\n",
       "      <td>Stars                   Average: 4.7          ...</td>\n",
       "    </tr>\n",
       "    <tr>\n",
       "      <th>3</th>\n",
       "      <td>Wire Mesa Loop</td>\n",
       "      <td>Stars                   Average: 4.6          ...</td>\n",
       "    </tr>\n",
       "    <tr>\n",
       "      <th>4</th>\n",
       "      <td>Ramblin'</td>\n",
       "      <td>Stars                   Average: 4.7          ...</td>\n",
       "    </tr>\n",
       "  </tbody>\n",
       "</table>\n",
       "</div>"
      ],
      "text/plain": [
       "                      trail_name  \\\n",
       "0  Thunder Mountain Trail #33098   \n",
       "1                  Wasatch Crest   \n",
       "2                   Captain Ahab   \n",
       "3                 Wire Mesa Loop   \n",
       "4                       Ramblin'   \n",
       "\n",
       "                                           user_name  \n",
       "0  Stars                   Average: 4.7          ...  \n",
       "1  Stars                   Average: 4.8          ...  \n",
       "2  Stars                   Average: 4.7          ...  \n",
       "3  Stars                   Average: 4.6          ...  \n",
       "4  Stars                   Average: 4.7          ...  "
      ]
     },
     "execution_count": 602,
     "metadata": {},
     "output_type": "execute_result"
    }
   ],
   "source": [
    "users_1.head()"
   ]
  },
  {
   "cell_type": "markdown",
   "metadata": {},
   "source": [
    "#### Cleaning Utah 'user_name' column"
   ]
  },
  {
   "cell_type": "code",
   "execution_count": 603,
   "metadata": {},
   "outputs": [],
   "source": [
    "for each in range(0,len(users_1['trail_name'])):    \n",
    "    # remove all the whitespace between names and replace with a comma\n",
    "    s = re.sub('    \\s+',',',users_1['user_name'][each])\n",
    "\n",
    "    # remove the top two entries ('Stars' and 'Average')\n",
    "    user_list = (s.split(\",\"))[2:]\n",
    "\n",
    "    # combine and create a list of tuples for users checked into each specific trail\n",
    "    info = [(item, users_1['trail_name'][each]) for item in user_list]\n",
    "\n",
    "    # building into a DataFrame of each user and trail check in \n",
    "    # trail_name now repeated when more than one check in present\n",
    "    trail_checkins = pd.DataFrame(info, columns =['user_name', 'trail_name'])\n",
    "    \n",
    "    # saving each trail with check ins to a csv (to be concatenated below)\n",
    "    trail_checkins.to_csv(f'./data/utah_users/trail_{each}.csv', index = False)\n",
    "\n",
    "# what to choose files by\n",
    "extension = 'csv'\n",
    "\n",
    "# looping through the relative file path to grab all files\n",
    "all_filenames = [i for i in glob.glob('./data/utah_users/*'.format(extension))]\n",
    "\n",
    "# combine all files in the list\n",
    "all_user = pd.concat([pd.read_csv(f) for f in all_filenames ])\n",
    "\n",
    "# export to new, concatenated csv\n",
    "# relative file path to were to save new csv\n",
    "all_user.to_csv( \"./data/all_utah_users.csv\", index=False)\n",
    "\n",
    "# Getting a fresh index\n",
    "all_user.reset_index(inplace = True)"
   ]
  },
  {
   "cell_type": "code",
   "execution_count": 604,
   "metadata": {},
   "outputs": [
    {
     "data": {
      "text/html": [
       "<div>\n",
       "<style scoped>\n",
       "    .dataframe tbody tr th:only-of-type {\n",
       "        vertical-align: middle;\n",
       "    }\n",
       "\n",
       "    .dataframe tbody tr th {\n",
       "        vertical-align: top;\n",
       "    }\n",
       "\n",
       "    .dataframe thead th {\n",
       "        text-align: right;\n",
       "    }\n",
       "</style>\n",
       "<table border=\"1\" class=\"dataframe\">\n",
       "  <thead>\n",
       "    <tr style=\"text-align: right;\">\n",
       "      <th></th>\n",
       "      <th>user_name</th>\n",
       "      <th>trail_name</th>\n",
       "    </tr>\n",
       "  </thead>\n",
       "  <tbody>\n",
       "    <tr>\n",
       "      <th>0</th>\n",
       "      <td>MadHamish H</td>\n",
       "      <td>Thunder Mountain Trail #33098</td>\n",
       "    </tr>\n",
       "    <tr>\n",
       "      <th>1</th>\n",
       "      <td>Matt Lane</td>\n",
       "      <td>Thunder Mountain Trail #33098</td>\n",
       "    </tr>\n",
       "    <tr>\n",
       "      <th>2</th>\n",
       "      <td>Phil Broadbent</td>\n",
       "      <td>Thunder Mountain Trail #33098</td>\n",
       "    </tr>\n",
       "    <tr>\n",
       "      <th>3</th>\n",
       "      <td>Jacob Crockett</td>\n",
       "      <td>Thunder Mountain Trail #33098</td>\n",
       "    </tr>\n",
       "    <tr>\n",
       "      <th>4</th>\n",
       "      <td>Heather Bond</td>\n",
       "      <td>Thunder Mountain Trail #33098</td>\n",
       "    </tr>\n",
       "  </tbody>\n",
       "</table>\n",
       "</div>"
      ],
      "text/plain": [
       "        user_name                     trail_name\n",
       "0     MadHamish H  Thunder Mountain Trail #33098\n",
       "1       Matt Lane  Thunder Mountain Trail #33098\n",
       "2  Phil Broadbent  Thunder Mountain Trail #33098\n",
       "3  Jacob Crockett  Thunder Mountain Trail #33098\n",
       "4    Heather Bond  Thunder Mountain Trail #33098"
      ]
     },
     "execution_count": 604,
     "metadata": {},
     "output_type": "execute_result"
    }
   ],
   "source": [
    "ut_users = pd.read_csv( \"./data/all_utah_users.csv\")\n",
    "ut_users.head()"
   ]
  },
  {
   "cell_type": "code",
   "execution_count": 605,
   "metadata": {},
   "outputs": [
    {
     "data": {
      "text/plain": [
       "user_name     0\n",
       "trail_name    0\n",
       "dtype: int64"
      ]
     },
     "execution_count": 605,
     "metadata": {},
     "output_type": "execute_result"
    }
   ],
   "source": [
    "# verifying no nulls\n",
    "ut_users.isnull().sum()"
   ]
  },
  {
   "cell_type": "markdown",
   "metadata": {},
   "source": [
    "#### Reading in Utah Trail Data"
   ]
  },
  {
   "cell_type": "code",
   "execution_count": 608,
   "metadata": {},
   "outputs": [
    {
     "data": {
      "text/plain": [
       "(933, 19)"
      ]
     },
     "execution_count": 608,
     "metadata": {},
     "output_type": "execute_result"
    }
   ],
   "source": [
    "ut = pd.read_csv('./data/raw_trail_data/utah_trails.csv')\n",
    "ut.shape"
   ]
  },
  {
   "cell_type": "code",
   "execution_count": 609,
   "metadata": {},
   "outputs": [
    {
     "data": {
      "text/html": [
       "<div>\n",
       "<style scoped>\n",
       "    .dataframe tbody tr th:only-of-type {\n",
       "        vertical-align: middle;\n",
       "    }\n",
       "\n",
       "    .dataframe tbody tr th {\n",
       "        vertical-align: top;\n",
       "    }\n",
       "\n",
       "    .dataframe thead th {\n",
       "        text-align: right;\n",
       "    }\n",
       "</style>\n",
       "<table border=\"1\" class=\"dataframe\">\n",
       "  <thead>\n",
       "    <tr style=\"text-align: right;\">\n",
       "      <th></th>\n",
       "      <th>trail_name</th>\n",
       "      <th>length</th>\n",
       "      <th>difficulty</th>\n",
       "      <th>trail_link</th>\n",
       "      <th>city</th>\n",
       "      <th>popularity</th>\n",
       "      <th>rating</th>\n",
       "      <th>local_club</th>\n",
       "      <th>local_club_site</th>\n",
       "      <th>land_manager</th>\n",
       "      <th>land_manager_site</th>\n",
       "      <th>tot_climb</th>\n",
       "      <th>tot_descent</th>\n",
       "      <th>ave_grade</th>\n",
       "      <th>max_grade</th>\n",
       "      <th>max_elevation</th>\n",
       "      <th>min_elevation</th>\n",
       "      <th>dog_policy</th>\n",
       "      <th>e_bike_policy</th>\n",
       "    </tr>\n",
       "  </thead>\n",
       "  <tbody>\n",
       "    <tr>\n",
       "      <th>0</th>\n",
       "      <td>Thunder Mountain Trail #33098</td>\n",
       "      <td>8.1\\n    mi</td>\n",
       "      <td>INTERMEDIATE/DIFFICULT</td>\n",
       "      <td>https://www.mtbproject.com/trail/1868735/thund...</td>\n",
       "      <td>Panguitch, UT</td>\n",
       "      <td>#1</td>\n",
       "      <td>4.7 (87)</td>\n",
       "      <td>Trail Alliance of Southern Utah (TASU)</td>\n",
       "      <td>https://www.mtbproject.com/club/31800/trail-al...</td>\n",
       "      <td>USFS - Dixie National Forest Office</td>\n",
       "      <td>http://www.fs.usda.gov/dixie</td>\n",
       "      <td>689'</td>\n",
       "      <td>1,681'</td>\n",
       "      <td>6%</td>\n",
       "      <td>27%</td>\n",
       "      <td>8,263'</td>\n",
       "      <td>7,084'</td>\n",
       "      <td>Off-leash</td>\n",
       "      <td>Unknown</td>\n",
       "    </tr>\n",
       "    <tr>\n",
       "      <th>1</th>\n",
       "      <td>Wasatch Crest</td>\n",
       "      <td>12.5\\n    mi</td>\n",
       "      <td>INTERMEDIATE/DIFFICULT</td>\n",
       "      <td>https://www.mtbproject.com/trail/3654027/wasat...</td>\n",
       "      <td>Alta, UT</td>\n",
       "      <td>#2</td>\n",
       "      <td>4.8 (110)</td>\n",
       "      <td>NaN</td>\n",
       "      <td>NaN</td>\n",
       "      <td>NaN</td>\n",
       "      <td>NaN</td>\n",
       "      <td>1,084'</td>\n",
       "      <td>2,656'</td>\n",
       "      <td>6%</td>\n",
       "      <td>26%</td>\n",
       "      <td>9,882'</td>\n",
       "      <td>7,616'</td>\n",
       "      <td>No Dogs</td>\n",
       "      <td>Not Allowed</td>\n",
       "    </tr>\n",
       "    <tr>\n",
       "      <th>2</th>\n",
       "      <td>Captain Ahab</td>\n",
       "      <td>4.2\\n    mi</td>\n",
       "      <td>DIFFICULT</td>\n",
       "      <td>https://www.mtbproject.com/trail/648766/captai...</td>\n",
       "      <td>Moab, UT</td>\n",
       "      <td>#3</td>\n",
       "      <td>4.7 (128)</td>\n",
       "      <td>NaN</td>\n",
       "      <td>NaN</td>\n",
       "      <td>NaN</td>\n",
       "      <td>NaN</td>\n",
       "      <td>326'</td>\n",
       "      <td>981'</td>\n",
       "      <td>6%</td>\n",
       "      <td>23%</td>\n",
       "      <td>4,898'</td>\n",
       "      <td>4,034'</td>\n",
       "      <td>Leashed</td>\n",
       "      <td>Not Allowed</td>\n",
       "    </tr>\n",
       "    <tr>\n",
       "      <th>3</th>\n",
       "      <td>Wire Mesa Loop</td>\n",
       "      <td>7.4\\n    mi</td>\n",
       "      <td>INTERMEDIATE/DIFFICULT</td>\n",
       "      <td>https://www.mtbproject.com/trail/7021693/wire-...</td>\n",
       "      <td>Springdale, UT</td>\n",
       "      <td>#4</td>\n",
       "      <td>4.6 (122)</td>\n",
       "      <td>NaN</td>\n",
       "      <td>NaN</td>\n",
       "      <td>NaN</td>\n",
       "      <td>NaN</td>\n",
       "      <td>428'</td>\n",
       "      <td>415'</td>\n",
       "      <td>2%</td>\n",
       "      <td>12%</td>\n",
       "      <td>4,502'</td>\n",
       "      <td>4,326'</td>\n",
       "      <td>Unknown</td>\n",
       "      <td>Allowed</td>\n",
       "    </tr>\n",
       "    <tr>\n",
       "      <th>4</th>\n",
       "      <td>Ramblin'</td>\n",
       "      <td>3.3\\n    mi</td>\n",
       "      <td>INTERMEDIATE/DIFFICULT</td>\n",
       "      <td>https://www.mtbproject.com/trail/7000569/ramblin</td>\n",
       "      <td>Moab, UT</td>\n",
       "      <td>#5</td>\n",
       "      <td>4.7 (92)</td>\n",
       "      <td>NaN</td>\n",
       "      <td>NaN</td>\n",
       "      <td>NaN</td>\n",
       "      <td>NaN</td>\n",
       "      <td>195'</td>\n",
       "      <td>398'</td>\n",
       "      <td>3%</td>\n",
       "      <td>12%</td>\n",
       "      <td>5,279'</td>\n",
       "      <td>4,971'</td>\n",
       "      <td>Leashed</td>\n",
       "      <td>Not Allowed</td>\n",
       "    </tr>\n",
       "  </tbody>\n",
       "</table>\n",
       "</div>"
      ],
      "text/plain": [
       "                      trail_name        length              difficulty  \\\n",
       "0  Thunder Mountain Trail #33098   8.1\\n    mi  INTERMEDIATE/DIFFICULT   \n",
       "1                  Wasatch Crest  12.5\\n    mi  INTERMEDIATE/DIFFICULT   \n",
       "2                   Captain Ahab   4.2\\n    mi               DIFFICULT   \n",
       "3                 Wire Mesa Loop   7.4\\n    mi  INTERMEDIATE/DIFFICULT   \n",
       "4                       Ramblin'   3.3\\n    mi  INTERMEDIATE/DIFFICULT   \n",
       "\n",
       "                                          trail_link            city  \\\n",
       "0  https://www.mtbproject.com/trail/1868735/thund...   Panguitch, UT   \n",
       "1  https://www.mtbproject.com/trail/3654027/wasat...        Alta, UT   \n",
       "2  https://www.mtbproject.com/trail/648766/captai...        Moab, UT   \n",
       "3  https://www.mtbproject.com/trail/7021693/wire-...  Springdale, UT   \n",
       "4   https://www.mtbproject.com/trail/7000569/ramblin        Moab, UT   \n",
       "\n",
       "  popularity     rating                              local_club  \\\n",
       "0         #1   4.7 (87)  Trail Alliance of Southern Utah (TASU)   \n",
       "1         #2  4.8 (110)                                     NaN   \n",
       "2         #3  4.7 (128)                                     NaN   \n",
       "3         #4  4.6 (122)                                     NaN   \n",
       "4         #5   4.7 (92)                                     NaN   \n",
       "\n",
       "                                     local_club_site  \\\n",
       "0  https://www.mtbproject.com/club/31800/trail-al...   \n",
       "1                                                NaN   \n",
       "2                                                NaN   \n",
       "3                                                NaN   \n",
       "4                                                NaN   \n",
       "\n",
       "                          land_manager             land_manager_site  \\\n",
       "0  USFS - Dixie National Forest Office  http://www.fs.usda.gov/dixie   \n",
       "1                                  NaN                           NaN   \n",
       "2                                  NaN                           NaN   \n",
       "3                                  NaN                           NaN   \n",
       "4                                  NaN                           NaN   \n",
       "\n",
       "  tot_climb tot_descent ave_grade max_grade max_elevation min_elevation  \\\n",
       "0      689'      1,681'        6%       27%        8,263'        7,084'   \n",
       "1    1,084'      2,656'        6%       26%        9,882'        7,616'   \n",
       "2      326'        981'        6%       23%        4,898'        4,034'   \n",
       "3      428'        415'        2%       12%        4,502'        4,326'   \n",
       "4      195'        398'        3%       12%        5,279'        4,971'   \n",
       "\n",
       "  dog_policy e_bike_policy  \n",
       "0  Off-leash       Unknown  \n",
       "1    No Dogs   Not Allowed  \n",
       "2    Leashed   Not Allowed  \n",
       "3    Unknown       Allowed  \n",
       "4    Leashed   Not Allowed  "
      ]
     },
     "execution_count": 609,
     "metadata": {},
     "output_type": "execute_result"
    }
   ],
   "source": [
    "ut.head()"
   ]
  },
  {
   "cell_type": "markdown",
   "metadata": {},
   "source": [
    "<a id='trailut'></a>\n",
    "#### Utah Data Cleaning\n",
    "\n",
    "**Extra Characters, DTypes, Scaling**"
   ]
  },
  {
   "cell_type": "code",
   "execution_count": 619,
   "metadata": {},
   "outputs": [],
   "source": [
    "# removing extra characters from 'length' and converting to float\n",
    "ut['length']= (ut['length'].str.replace('\\n    mi','')).astype(float)\n",
    "\n",
    "# removing extra characters from 'city'\n",
    "ut['city']= (ut['city'].str.replace(', UT',''))\n",
    "\n",
    "# removing extra characters from 'rating' replacing 'nan' with 0, and converting to float\n",
    "ut['rating'] = ut['rating'].astype(str).str[:3].str.replace('nan','0').astype(float) \n",
    "\n",
    "# removing '#' from 'arizona_rating' and scaling ranking from 0-1\n",
    "ut['popularity']= (1-MinMaxScaler().fit_transform(ut['popularity'].str.replace('#','').astype(float).values.reshape(-1,1)))\n",
    "\n",
    "# removing extra characters and converting to float for climb, descent, and elevation columns\n",
    "cols = ['tot_climb', 'tot_descent', 'max_elevation', 'min_elevation']\n",
    "# passing replacement and float type to each column\n",
    "ut[cols] = ut[cols].replace({\",\":\"\", \"'\":\"\"}, regex=True).astype(float)\n",
    "\n",
    "# dropping '%' from ave and max_grade columns\n",
    "cols1 = ['ave_grade', 'max_grade']\n",
    "# passing replacement and float type to each column\n",
    "ut[cols1] = ut[cols1].replace({\"%\":\"\"}, regex=True).astype(float)"
   ]
  },
  {
   "cell_type": "code",
   "execution_count": 620,
   "metadata": {},
   "outputs": [],
   "source": [
    "# preserve an unaltered version of Utah trail data for filtering dashboard\n",
    "ut_trails =ut.copy()\n",
    "ut_trails.to_csv( \"./data/trail_dashboard/ut_trails.csv\", index=False)"
   ]
  },
  {
   "cell_type": "markdown",
   "metadata": {},
   "source": [
    "<a id='imputeut'></a>\n",
    "#### Further Processing for Recommender System\n",
    "**Imputing Nulls**"
   ]
  },
  {
   "cell_type": "code",
   "execution_count": 621,
   "metadata": {},
   "outputs": [
    {
     "data": {
      "text/plain": [
       "trail_name             0\n",
       "length                 0\n",
       "difficulty             0\n",
       "trail_link             0\n",
       "city                   0\n",
       "popularity             0\n",
       "rating                 0\n",
       "local_club           421\n",
       "local_club_site      421\n",
       "land_manager         734\n",
       "land_manager_site    734\n",
       "tot_climb              0\n",
       "tot_descent            0\n",
       "ave_grade              0\n",
       "max_grade              0\n",
       "max_elevation          0\n",
       "min_elevation          0\n",
       "dog_policy            11\n",
       "e_bike_policy          0\n",
       "dtype: int64"
      ]
     },
     "execution_count": 621,
     "metadata": {},
     "output_type": "execute_result"
    }
   ],
   "source": [
    "ut_trails.isnull().sum()"
   ]
  },
  {
   "cell_type": "markdown",
   "metadata": {},
   "source": [
    "**Imputing club, land manager, dog and e-bike missing information with 'Unknown'**"
   ]
  },
  {
   "cell_type": "code",
   "execution_count": 622,
   "metadata": {},
   "outputs": [],
   "source": [
    "features=['local_club', 'local_club_site', 'land_manager', 'land_manager_site', 'dog_policy', 'e_bike_policy']\n",
    "for i in features:\n",
    "       ut_trails[i].fillna('Unknown', inplace = True)"
   ]
  },
  {
   "cell_type": "markdown",
   "metadata": {},
   "source": [
    "**Utilizing KNN Imputation for various missing trail statistics**\n",
    "\n",
    "This information is assumed 'Missing at Random'. The data is not systematically different from other points, and it is more likely that user-generated data just hasn't been collected yet. KNN Imputation should do a great job replacing missing data."
   ]
  },
  {
   "cell_type": "code",
   "execution_count": 623,
   "metadata": {},
   "outputs": [],
   "source": [
    "# scaling data to bring imputations onto a level playing field\n",
    "features = ['tot_climb', 'tot_descent', 'ave_grade', 'max_grade', 'max_elevation', 'min_elevation','length', 'rating']\n",
    "ut_trails[features]= (MinMaxScaler().fit_transform(ut[features]))\n",
    "\n",
    "imp_features = ['tot_climb', 'tot_descent', 'ave_grade', 'max_grade', 'max_elevation', 'min_elevation']\n",
    "# utilizing KNNImputer with 5 neighbors to fill in missing data for 'features'.\n",
    "imputer = KNNImputer(n_neighbors=5)\n",
    "ut_trails[imp_features] = pd.DataFrame(imputer.fit_transform(ut_trails[imp_features]))"
   ]
  },
  {
   "cell_type": "code",
   "execution_count": 624,
   "metadata": {},
   "outputs": [],
   "source": [
    "# dropping columns not needed for recommender\n",
    "ut_trails.drop(columns =['local_club','local_club_site','land_manager','land_manager_site', 'trail_link', 'city'], inplace=True)"
   ]
  },
  {
   "cell_type": "code",
   "execution_count": 625,
   "metadata": {},
   "outputs": [
    {
     "data": {
      "text/html": [
       "<div>\n",
       "<style scoped>\n",
       "    .dataframe tbody tr th:only-of-type {\n",
       "        vertical-align: middle;\n",
       "    }\n",
       "\n",
       "    .dataframe tbody tr th {\n",
       "        vertical-align: top;\n",
       "    }\n",
       "\n",
       "    .dataframe thead th {\n",
       "        text-align: right;\n",
       "    }\n",
       "</style>\n",
       "<table border=\"1\" class=\"dataframe\">\n",
       "  <thead>\n",
       "    <tr style=\"text-align: right;\">\n",
       "      <th></th>\n",
       "      <th>trail_name</th>\n",
       "      <th>length</th>\n",
       "      <th>difficulty</th>\n",
       "      <th>popularity</th>\n",
       "      <th>rating</th>\n",
       "      <th>tot_climb</th>\n",
       "      <th>tot_descent</th>\n",
       "      <th>ave_grade</th>\n",
       "      <th>max_grade</th>\n",
       "      <th>max_elevation</th>\n",
       "      <th>min_elevation</th>\n",
       "      <th>dog_policy</th>\n",
       "      <th>e_bike_policy</th>\n",
       "    </tr>\n",
       "  </thead>\n",
       "  <tbody>\n",
       "    <tr>\n",
       "      <th>0</th>\n",
       "      <td>Thunder Mountain Trail #33098</td>\n",
       "      <td>0.065165</td>\n",
       "      <td>INTERMEDIATE/DIFFICULT</td>\n",
       "      <td>1.000000</td>\n",
       "      <td>0.94</td>\n",
       "      <td>0.052217</td>\n",
       "      <td>0.148210</td>\n",
       "      <td>0.3</td>\n",
       "      <td>0.409091</td>\n",
       "      <td>0.632152</td>\n",
       "      <td>0.539085</td>\n",
       "      <td>Off-leash</td>\n",
       "      <td>Unknown</td>\n",
       "    </tr>\n",
       "    <tr>\n",
       "      <th>1</th>\n",
       "      <td>Wasatch Crest</td>\n",
       "      <td>0.100563</td>\n",
       "      <td>INTERMEDIATE/DIFFICULT</td>\n",
       "      <td>0.998922</td>\n",
       "      <td>0.96</td>\n",
       "      <td>0.082152</td>\n",
       "      <td>0.234174</td>\n",
       "      <td>0.3</td>\n",
       "      <td>0.393939</td>\n",
       "      <td>0.817796</td>\n",
       "      <td>0.602479</td>\n",
       "      <td>No Dogs</td>\n",
       "      <td>Not Allowed</td>\n",
       "    </tr>\n",
       "  </tbody>\n",
       "</table>\n",
       "</div>"
      ],
      "text/plain": [
       "                      trail_name    length              difficulty  \\\n",
       "0  Thunder Mountain Trail #33098  0.065165  INTERMEDIATE/DIFFICULT   \n",
       "1                  Wasatch Crest  0.100563  INTERMEDIATE/DIFFICULT   \n",
       "\n",
       "   popularity  rating  tot_climb  tot_descent  ave_grade  max_grade  \\\n",
       "0    1.000000    0.94   0.052217     0.148210        0.3   0.409091   \n",
       "1    0.998922    0.96   0.082152     0.234174        0.3   0.393939   \n",
       "\n",
       "   max_elevation  min_elevation dog_policy e_bike_policy  \n",
       "0       0.632152       0.539085  Off-leash       Unknown  \n",
       "1       0.817796       0.602479    No Dogs   Not Allowed  "
      ]
     },
     "execution_count": 625,
     "metadata": {},
     "output_type": "execute_result"
    }
   ],
   "source": [
    "ut_trails.head(2)"
   ]
  },
  {
   "cell_type": "markdown",
   "metadata": {},
   "source": [
    "**One Hot Encoding (pd.getdummies) 'city', 'dog_policy', 'e_bike_policy'**"
   ]
  },
  {
   "cell_type": "code",
   "execution_count": 626,
   "metadata": {},
   "outputs": [],
   "source": [
    "# creating a list of features to convert to dummy columns\n",
    "dummies = pd.get_dummies(ut_trails, columns=['difficulty', 'dog_policy', 'e_bike_policy'])\n",
    "ut_trails = dummies\n",
    "ut_trails.columns = map(str.lower, ut_trails.columns)"
   ]
  },
  {
   "cell_type": "code",
   "execution_count": 629,
   "metadata": {},
   "outputs": [
    {
     "data": {
      "text/html": [
       "<div>\n",
       "<style scoped>\n",
       "    .dataframe tbody tr th:only-of-type {\n",
       "        vertical-align: middle;\n",
       "    }\n",
       "\n",
       "    .dataframe tbody tr th {\n",
       "        vertical-align: top;\n",
       "    }\n",
       "\n",
       "    .dataframe thead th {\n",
       "        text-align: right;\n",
       "    }\n",
       "</style>\n",
       "<table border=\"1\" class=\"dataframe\">\n",
       "  <thead>\n",
       "    <tr style=\"text-align: right;\">\n",
       "      <th></th>\n",
       "      <th>trail_name</th>\n",
       "      <th>length</th>\n",
       "      <th>popularity</th>\n",
       "      <th>rating</th>\n",
       "      <th>tot_climb</th>\n",
       "      <th>tot_descent</th>\n",
       "      <th>ave_grade</th>\n",
       "      <th>max_grade</th>\n",
       "      <th>max_elevation</th>\n",
       "      <th>min_elevation</th>\n",
       "      <th>...</th>\n",
       "      <th>difficulty_intermediate</th>\n",
       "      <th>difficulty_intermediate/difficult</th>\n",
       "      <th>difficulty_very difficult</th>\n",
       "      <th>dog_policy_leashed</th>\n",
       "      <th>dog_policy_no dogs</th>\n",
       "      <th>dog_policy_off-leash</th>\n",
       "      <th>dog_policy_unknown</th>\n",
       "      <th>e_bike_policy_allowed</th>\n",
       "      <th>e_bike_policy_not allowed</th>\n",
       "      <th>e_bike_policy_unknown</th>\n",
       "    </tr>\n",
       "  </thead>\n",
       "  <tbody>\n",
       "    <tr>\n",
       "      <th>0</th>\n",
       "      <td>Thunder Mountain Trail #33098</td>\n",
       "      <td>0.065165</td>\n",
       "      <td>1.000000</td>\n",
       "      <td>0.94</td>\n",
       "      <td>0.052217</td>\n",
       "      <td>0.148210</td>\n",
       "      <td>0.3</td>\n",
       "      <td>0.409091</td>\n",
       "      <td>0.632152</td>\n",
       "      <td>0.539085</td>\n",
       "      <td>...</td>\n",
       "      <td>0</td>\n",
       "      <td>1</td>\n",
       "      <td>0</td>\n",
       "      <td>0</td>\n",
       "      <td>0</td>\n",
       "      <td>1</td>\n",
       "      <td>0</td>\n",
       "      <td>0</td>\n",
       "      <td>0</td>\n",
       "      <td>1</td>\n",
       "    </tr>\n",
       "    <tr>\n",
       "      <th>1</th>\n",
       "      <td>Wasatch Crest</td>\n",
       "      <td>0.100563</td>\n",
       "      <td>0.998922</td>\n",
       "      <td>0.96</td>\n",
       "      <td>0.082152</td>\n",
       "      <td>0.234174</td>\n",
       "      <td>0.3</td>\n",
       "      <td>0.393939</td>\n",
       "      <td>0.817796</td>\n",
       "      <td>0.602479</td>\n",
       "      <td>...</td>\n",
       "      <td>0</td>\n",
       "      <td>1</td>\n",
       "      <td>0</td>\n",
       "      <td>0</td>\n",
       "      <td>1</td>\n",
       "      <td>0</td>\n",
       "      <td>0</td>\n",
       "      <td>0</td>\n",
       "      <td>1</td>\n",
       "      <td>0</td>\n",
       "    </tr>\n",
       "  </tbody>\n",
       "</table>\n",
       "<p>2 rows × 23 columns</p>\n",
       "</div>"
      ],
      "text/plain": [
       "                      trail_name    length  popularity  rating  tot_climb  \\\n",
       "0  Thunder Mountain Trail #33098  0.065165    1.000000    0.94   0.052217   \n",
       "1                  Wasatch Crest  0.100563    0.998922    0.96   0.082152   \n",
       "\n",
       "   tot_descent  ave_grade  max_grade  max_elevation  min_elevation  ...  \\\n",
       "0     0.148210        0.3   0.409091       0.632152       0.539085  ...   \n",
       "1     0.234174        0.3   0.393939       0.817796       0.602479  ...   \n",
       "\n",
       "   difficulty_intermediate  difficulty_intermediate/difficult  \\\n",
       "0                        0                                  1   \n",
       "1                        0                                  1   \n",
       "\n",
       "   difficulty_very difficult  dog_policy_leashed  dog_policy_no dogs  \\\n",
       "0                          0                   0                   0   \n",
       "1                          0                   0                   1   \n",
       "\n",
       "   dog_policy_off-leash  dog_policy_unknown  e_bike_policy_allowed  \\\n",
       "0                     1                   0                      0   \n",
       "1                     0                   0                      0   \n",
       "\n",
       "   e_bike_policy_not allowed  e_bike_policy_unknown  \n",
       "0                          0                      1  \n",
       "1                          1                      0  \n",
       "\n",
       "[2 rows x 23 columns]"
      ]
     },
     "execution_count": 629,
     "metadata": {},
     "output_type": "execute_result"
    }
   ],
   "source": [
    "ut_trails.head(2)"
   ]
  },
  {
   "cell_type": "markdown",
   "metadata": {},
   "source": [
    "<a id='saveut'></a>\n",
    "### Saving formatted Utah Trials Dataframe for Modeling"
   ]
  },
  {
   "cell_type": "code",
   "execution_count": 627,
   "metadata": {},
   "outputs": [],
   "source": [
    "ut_trails.to_csv( \"./data/recommender_data/ut_trail_data.csv\", index=False)"
   ]
  }
 ],
 "metadata": {
  "kernelspec": {
   "display_name": "Python 3",
   "language": "python",
   "name": "python3"
  },
  "language_info": {
   "codemirror_mode": {
    "name": "ipython",
    "version": 3
   },
   "file_extension": ".py",
   "mimetype": "text/x-python",
   "name": "python",
   "nbconvert_exporter": "python",
   "pygments_lexer": "ipython3",
   "version": "3.8.5"
  }
 },
 "nbformat": 4,
 "nbformat_minor": 4
}
