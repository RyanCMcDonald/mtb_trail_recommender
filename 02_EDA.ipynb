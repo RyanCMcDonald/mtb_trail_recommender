{
 "cells": [
  {
   "cell_type": "markdown",
   "metadata": {},
   "source": [
    "# <img src=\"./resources/GA.png\" width=\"25\" height=\"25\" /> <span style=\"color:Blue\">Arizona/ Utah MTB Trail Recommender Engine</span> \n",
    "---\n",
    "## <span style=\"color:Green\">EDA</span>      \n",
    "\n",
    "#### Ryan McDonald -General Assembly \n",
    "\n",
    "\n",
    "\n",
    "---"
   ]
  },
  {
   "cell_type": "markdown",
   "metadata": {},
   "source": [
    "### Notebook Contents:\n",
    "\n",
    "- [Reading the User Data](#intro)    \n",
    "- [Trail Difficulty Distribution](#trail)\n",
    "- [KMeans Preprocessing](#kmeans)\n",
    "    - [Coordinate Plot](#plot)\n",
    "    - [Clusters Plot ](#cluster)"
   ]
  },
  {
   "cell_type": "markdown",
   "metadata": {},
   "source": [
    "**Imports**"
   ]
  },
  {
   "cell_type": "code",
   "execution_count": 2,
   "metadata": {},
   "outputs": [],
   "source": [
    "# general processing, CSV manipulation\n",
    "import numpy as np\n",
    "import pandas as pd\n",
    "import matplotlib.pyplot as plt\n",
    "import seaborn as sns\n",
    "import matplotlib\n",
    "\n",
    "# K-Means Clustering\n",
    "from sklearn.cluster import KMeans\n",
    "from sklearn.preprocessing import StandardScaler\n",
    "\n",
    "matplotlib.style.use('ggplot')\n"
   ]
  },
  {
   "cell_type": "markdown",
   "metadata": {},
   "source": [
    "<a id='intro'></a>\n",
    "## 1. Read Data- Arizona and Utah Trail Data"
   ]
  },
  {
   "cell_type": "code",
   "execution_count": 3,
   "metadata": {},
   "outputs": [
    {
     "data": {
      "text/html": [
       "<div>\n",
       "<style scoped>\n",
       "    .dataframe tbody tr th:only-of-type {\n",
       "        vertical-align: middle;\n",
       "    }\n",
       "\n",
       "    .dataframe tbody tr th {\n",
       "        vertical-align: top;\n",
       "    }\n",
       "\n",
       "    .dataframe thead th {\n",
       "        text-align: right;\n",
       "    }\n",
       "</style>\n",
       "<table border=\"1\" class=\"dataframe\">\n",
       "  <thead>\n",
       "    <tr style=\"text-align: right;\">\n",
       "      <th></th>\n",
       "      <th>trail_name</th>\n",
       "      <th>length</th>\n",
       "      <th>difficulty</th>\n",
       "      <th>city</th>\n",
       "      <th>popularity</th>\n",
       "      <th>rating</th>\n",
       "      <th>local_club</th>\n",
       "      <th>tot_climb</th>\n",
       "      <th>tot_descent</th>\n",
       "      <th>ave_grade</th>\n",
       "      <th>max_grade</th>\n",
       "      <th>max_elevation</th>\n",
       "      <th>min_elevation</th>\n",
       "      <th>dog_policy</th>\n",
       "      <th>e_bike_policy</th>\n",
       "    </tr>\n",
       "  </thead>\n",
       "  <tbody>\n",
       "    <tr>\n",
       "      <th>0</th>\n",
       "      <td>thunder mountain trail #33098</td>\n",
       "      <td>8.1</td>\n",
       "      <td>INTERMEDIATE/DIFFICULT</td>\n",
       "      <td>Panguitch, UT</td>\n",
       "      <td>1.000000</td>\n",
       "      <td>4.7</td>\n",
       "      <td>Trail Alliance of Southern Utah (TASU)</td>\n",
       "      <td>689</td>\n",
       "      <td>1681</td>\n",
       "      <td>6</td>\n",
       "      <td>27</td>\n",
       "      <td>8263</td>\n",
       "      <td>7084</td>\n",
       "      <td>Off-leash</td>\n",
       "      <td>Unknown</td>\n",
       "    </tr>\n",
       "    <tr>\n",
       "      <th>1</th>\n",
       "      <td>wasatch crest</td>\n",
       "      <td>12.5</td>\n",
       "      <td>INTERMEDIATE/DIFFICULT</td>\n",
       "      <td>Alta, UT</td>\n",
       "      <td>0.998922</td>\n",
       "      <td>4.8</td>\n",
       "      <td>NaN</td>\n",
       "      <td>1084</td>\n",
       "      <td>2656</td>\n",
       "      <td>6</td>\n",
       "      <td>26</td>\n",
       "      <td>9882</td>\n",
       "      <td>7616</td>\n",
       "      <td>No Dogs</td>\n",
       "      <td>Not Allowed</td>\n",
       "    </tr>\n",
       "    <tr>\n",
       "      <th>2</th>\n",
       "      <td>captain ahab</td>\n",
       "      <td>4.2</td>\n",
       "      <td>DIFFICULT</td>\n",
       "      <td>Moab, UT</td>\n",
       "      <td>0.997845</td>\n",
       "      <td>4.7</td>\n",
       "      <td>NaN</td>\n",
       "      <td>326</td>\n",
       "      <td>981</td>\n",
       "      <td>6</td>\n",
       "      <td>23</td>\n",
       "      <td>4898</td>\n",
       "      <td>4034</td>\n",
       "      <td>Leashed</td>\n",
       "      <td>Not Allowed</td>\n",
       "    </tr>\n",
       "    <tr>\n",
       "      <th>3</th>\n",
       "      <td>wire mesa loop</td>\n",
       "      <td>7.4</td>\n",
       "      <td>INTERMEDIATE/DIFFICULT</td>\n",
       "      <td>Springdale, UT</td>\n",
       "      <td>0.996767</td>\n",
       "      <td>4.6</td>\n",
       "      <td>NaN</td>\n",
       "      <td>428</td>\n",
       "      <td>415</td>\n",
       "      <td>2</td>\n",
       "      <td>12</td>\n",
       "      <td>4502</td>\n",
       "      <td>4326</td>\n",
       "      <td>Unknown</td>\n",
       "      <td>Allowed</td>\n",
       "    </tr>\n",
       "    <tr>\n",
       "      <th>4</th>\n",
       "      <td>ramblin'</td>\n",
       "      <td>3.3</td>\n",
       "      <td>INTERMEDIATE/DIFFICULT</td>\n",
       "      <td>Moab, UT</td>\n",
       "      <td>0.995690</td>\n",
       "      <td>4.7</td>\n",
       "      <td>NaN</td>\n",
       "      <td>195</td>\n",
       "      <td>398</td>\n",
       "      <td>3</td>\n",
       "      <td>12</td>\n",
       "      <td>5279</td>\n",
       "      <td>4971</td>\n",
       "      <td>Leashed</td>\n",
       "      <td>Not Allowed</td>\n",
       "    </tr>\n",
       "  </tbody>\n",
       "</table>\n",
       "</div>"
      ],
      "text/plain": [
       "                      trail_name  length              difficulty  \\\n",
       "0  thunder mountain trail #33098     8.1  INTERMEDIATE/DIFFICULT   \n",
       "1                  wasatch crest    12.5  INTERMEDIATE/DIFFICULT   \n",
       "2                   captain ahab     4.2               DIFFICULT   \n",
       "3                 wire mesa loop     7.4  INTERMEDIATE/DIFFICULT   \n",
       "4                       ramblin'     3.3  INTERMEDIATE/DIFFICULT   \n",
       "\n",
       "             city  popularity  rating                              local_club  \\\n",
       "0   Panguitch, UT    1.000000     4.7  Trail Alliance of Southern Utah (TASU)   \n",
       "1        Alta, UT    0.998922     4.8                                     NaN   \n",
       "2        Moab, UT    0.997845     4.7                                     NaN   \n",
       "3  Springdale, UT    0.996767     4.6                                     NaN   \n",
       "4        Moab, UT    0.995690     4.7                                     NaN   \n",
       "\n",
       "   tot_climb  tot_descent  ave_grade  max_grade  max_elevation  min_elevation  \\\n",
       "0        689         1681          6         27           8263           7084   \n",
       "1       1084         2656          6         26           9882           7616   \n",
       "2        326          981          6         23           4898           4034   \n",
       "3        428          415          2         12           4502           4326   \n",
       "4        195          398          3         12           5279           4971   \n",
       "\n",
       "  dog_policy e_bike_policy  \n",
       "0  Off-leash       Unknown  \n",
       "1    No Dogs   Not Allowed  \n",
       "2    Leashed   Not Allowed  \n",
       "3    Unknown       Allowed  \n",
       "4    Leashed   Not Allowed  "
      ]
     },
     "execution_count": 3,
     "metadata": {},
     "output_type": "execute_result"
    }
   ],
   "source": [
    "ut_trails = pd.read_csv('./data/trail_dashboard/ut_trails.csv')\n",
    "ut_trails.head()"
   ]
  },
  {
   "cell_type": "code",
   "execution_count": 4,
   "metadata": {},
   "outputs": [
    {
     "data": {
      "text/html": [
       "<div>\n",
       "<style scoped>\n",
       "    .dataframe tbody tr th:only-of-type {\n",
       "        vertical-align: middle;\n",
       "    }\n",
       "\n",
       "    .dataframe tbody tr th {\n",
       "        vertical-align: top;\n",
       "    }\n",
       "\n",
       "    .dataframe thead th {\n",
       "        text-align: right;\n",
       "    }\n",
       "</style>\n",
       "<table border=\"1\" class=\"dataframe\">\n",
       "  <thead>\n",
       "    <tr style=\"text-align: right;\">\n",
       "      <th></th>\n",
       "      <th>trail_name</th>\n",
       "      <th>length</th>\n",
       "      <th>difficulty</th>\n",
       "      <th>city</th>\n",
       "      <th>popularity</th>\n",
       "      <th>rating</th>\n",
       "      <th>local_club</th>\n",
       "      <th>tot_climb</th>\n",
       "      <th>tot_descent</th>\n",
       "      <th>ave_grade</th>\n",
       "      <th>max_grade</th>\n",
       "      <th>max_elevation</th>\n",
       "      <th>min_elevation</th>\n",
       "      <th>dog_policy</th>\n",
       "      <th>e_bike_policy</th>\n",
       "    </tr>\n",
       "  </thead>\n",
       "  <tbody>\n",
       "    <tr>\n",
       "      <th>0</th>\n",
       "      <td>hiline trail</td>\n",
       "      <td>3.1</td>\n",
       "      <td>VERY DIFFICULT</td>\n",
       "      <td>Village of Oak Creek (Big Park)</td>\n",
       "      <td>1.000000</td>\n",
       "      <td>4.7</td>\n",
       "      <td>Verde Valley Cyclists Coalition</td>\n",
       "      <td>326.0</td>\n",
       "      <td>695.0</td>\n",
       "      <td>6.0</td>\n",
       "      <td>35.0</td>\n",
       "      <td>4646.0</td>\n",
       "      <td>4086.0</td>\n",
       "      <td>Unknown</td>\n",
       "      <td>Unknown</td>\n",
       "    </tr>\n",
       "    <tr>\n",
       "      <th>1</th>\n",
       "      <td>slim shady trail</td>\n",
       "      <td>2.6</td>\n",
       "      <td>INTERMEDIATE/DIFFICULT</td>\n",
       "      <td>Village of Oak Creek (Big Park)</td>\n",
       "      <td>0.998953</td>\n",
       "      <td>4.4</td>\n",
       "      <td>Verde Valley Cyclists Coalition</td>\n",
       "      <td>265.0</td>\n",
       "      <td>264.0</td>\n",
       "      <td>4.0</td>\n",
       "      <td>11.0</td>\n",
       "      <td>4464.0</td>\n",
       "      <td>4202.0</td>\n",
       "      <td>Unknown</td>\n",
       "      <td>Unknown</td>\n",
       "    </tr>\n",
       "    <tr>\n",
       "      <th>2</th>\n",
       "      <td>mescal</td>\n",
       "      <td>2.4</td>\n",
       "      <td>INTERMEDIATE/DIFFICULT</td>\n",
       "      <td>West Sedona</td>\n",
       "      <td>0.997906</td>\n",
       "      <td>4.6</td>\n",
       "      <td>Verde Valley Cyclists Coalition</td>\n",
       "      <td>206.0</td>\n",
       "      <td>166.0</td>\n",
       "      <td>3.0</td>\n",
       "      <td>11.0</td>\n",
       "      <td>4710.0</td>\n",
       "      <td>4520.0</td>\n",
       "      <td>Unknown</td>\n",
       "      <td>Unknown</td>\n",
       "    </tr>\n",
       "    <tr>\n",
       "      <th>3</th>\n",
       "      <td>chuckwagon</td>\n",
       "      <td>5.4</td>\n",
       "      <td>INTERMEDIATE</td>\n",
       "      <td>West Sedona</td>\n",
       "      <td>0.996859</td>\n",
       "      <td>4.5</td>\n",
       "      <td>Verde Valley Cyclists Coalition</td>\n",
       "      <td>559.0</td>\n",
       "      <td>489.0</td>\n",
       "      <td>4.0</td>\n",
       "      <td>13.0</td>\n",
       "      <td>4679.0</td>\n",
       "      <td>4499.0</td>\n",
       "      <td>Unknown</td>\n",
       "      <td>Unknown</td>\n",
       "    </tr>\n",
       "    <tr>\n",
       "      <th>4</th>\n",
       "      <td>tortolita preserve loop</td>\n",
       "      <td>9.7</td>\n",
       "      <td>INTERMEDIATE</td>\n",
       "      <td>Tortolita</td>\n",
       "      <td>0.995812</td>\n",
       "      <td>4.2</td>\n",
       "      <td>Sonoran Desert Mountain Bicyclists</td>\n",
       "      <td>520.0</td>\n",
       "      <td>520.0</td>\n",
       "      <td>2.0</td>\n",
       "      <td>4.0</td>\n",
       "      <td>2804.0</td>\n",
       "      <td>2326.0</td>\n",
       "      <td>Unknown</td>\n",
       "      <td>Unknown</td>\n",
       "    </tr>\n",
       "  </tbody>\n",
       "</table>\n",
       "</div>"
      ],
      "text/plain": [
       "                trail_name  length              difficulty  \\\n",
       "0             hiline trail     3.1          VERY DIFFICULT   \n",
       "1         slim shady trail     2.6  INTERMEDIATE/DIFFICULT   \n",
       "2                   mescal     2.4  INTERMEDIATE/DIFFICULT   \n",
       "3               chuckwagon     5.4            INTERMEDIATE   \n",
       "4  tortolita preserve loop     9.7            INTERMEDIATE   \n",
       "\n",
       "                              city  popularity  rating  \\\n",
       "0  Village of Oak Creek (Big Park)    1.000000     4.7   \n",
       "1  Village of Oak Creek (Big Park)    0.998953     4.4   \n",
       "2                      West Sedona    0.997906     4.6   \n",
       "3                      West Sedona    0.996859     4.5   \n",
       "4                        Tortolita    0.995812     4.2   \n",
       "\n",
       "                           local_club  tot_climb  tot_descent  ave_grade  \\\n",
       "0     Verde Valley Cyclists Coalition      326.0        695.0        6.0   \n",
       "1     Verde Valley Cyclists Coalition      265.0        264.0        4.0   \n",
       "2     Verde Valley Cyclists Coalition      206.0        166.0        3.0   \n",
       "3     Verde Valley Cyclists Coalition      559.0        489.0        4.0   \n",
       "4  Sonoran Desert Mountain Bicyclists      520.0        520.0        2.0   \n",
       "\n",
       "   max_grade  max_elevation  min_elevation dog_policy e_bike_policy  \n",
       "0       35.0         4646.0         4086.0    Unknown       Unknown  \n",
       "1       11.0         4464.0         4202.0    Unknown       Unknown  \n",
       "2       11.0         4710.0         4520.0    Unknown       Unknown  \n",
       "3       13.0         4679.0         4499.0    Unknown       Unknown  \n",
       "4        4.0         2804.0         2326.0    Unknown       Unknown  "
      ]
     },
     "execution_count": 4,
     "metadata": {},
     "output_type": "execute_result"
    }
   ],
   "source": [
    "az_trails = pd.read_csv('./data/trail_dashboard/az_trails.csv')\n",
    "az_trails.head()"
   ]
  },
  {
   "cell_type": "code",
   "execution_count": 5,
   "metadata": {},
   "outputs": [
    {
     "data": {
      "text/plain": [
       "trail_name        object\n",
       "length           float64\n",
       "difficulty        object\n",
       "city              object\n",
       "popularity       float64\n",
       "rating           float64\n",
       "local_club        object\n",
       "tot_climb        float64\n",
       "tot_descent      float64\n",
       "ave_grade        float64\n",
       "max_grade        float64\n",
       "max_elevation    float64\n",
       "min_elevation    float64\n",
       "dog_policy        object\n",
       "e_bike_policy     object\n",
       "dtype: object"
      ]
     },
     "execution_count": 5,
     "metadata": {},
     "output_type": "execute_result"
    }
   ],
   "source": [
    "az_trails.dtypes"
   ]
  },
  {
   "cell_type": "markdown",
   "metadata": {},
   "source": [
    "<a id='trail'></a>\n",
    "### Plotting trail difficulty distributions for both states"
   ]
  },
  {
   "cell_type": "code",
   "execution_count": 6,
   "metadata": {},
   "outputs": [
    {
     "data": {
      "image/png": "[encoded data removed]",
      "text/plain": [
       "<Figure size 576x360 with 1 Axes>"
      ]
     },
     "metadata": {},
     "output_type": "display_data"
    }
   ],
   "source": [
    "plt.figure(figsize = (8, 5))\n",
    "sns.countplot(x='difficulty', data= az_trails,\n",
    "              order=['EASY', 'EASY/INTERMEDIATE', 'INTERMEDIATE', \n",
    "                     'INTERMEDIATE/DIFFICULT', 'DIFFICULT', \n",
    "                     'VERY DIFFICULT'] )\n",
    "plt.title('AZ Trail Difficulty Distribution', size = 16)\n",
    "plt.ylabel('Count', size = 14)\n",
    "plt.xlabel('Difficulty', size = 14)\n",
    "plt.xticks(rotation = 90)\n",
    "\n",
    "plt.show()"
   ]
  },
  {
   "cell_type": "markdown",
   "metadata": {},
   "source": [
    "Arizona is a majority intermediate riding state.  The state offers many easier trails as well that can help a rider build valuable skills before attemting more challenging trails."
   ]
  },
  {
   "cell_type": "code",
   "execution_count": 7,
   "metadata": {},
   "outputs": [
    {
     "data": {
      "image/png": "[encoded data removed]",
      "text/plain": [
       "<Figure size 576x360 with 1 Axes>"
      ]
     },
     "metadata": {},
     "output_type": "display_data"
    }
   ],
   "source": [
    "plt.figure(figsize = (8, 5))\n",
    "sns.countplot(x='difficulty', data= ut_trails, \n",
    "              order=['EASY', 'EASY/INTERMEDIATE', 'INTERMEDIATE', \n",
    "                     'INTERMEDIATE/DIFFICULT', 'DIFFICULT', \n",
    "                     'VERY DIFFICULT'] )\n",
    "plt.title('UT Trail Difficulty Distribution', size = 16)\n",
    "plt.ylabel('Count', size = 14)\n",
    "plt.xlabel('Difficulty', size = 14)\n",
    "plt.xticks(rotation = 90)\n",
    "\n",
    "plt.show()"
   ]
  },
  {
   "cell_type": "markdown",
   "metadata": {},
   "source": [
    "The majority of trails in Utah are also rated intermediate. Overall, Utah caters to more expereienced riders."
   ]
  },
  {
   "cell_type": "markdown",
   "metadata": {},
   "source": [
    "<a id='kmeans'></a>\n",
    "### K-Means Clustering\n",
    "\n",
    "With our available coordinates, lets see how unsupervised learning clusters our riding areas!  \n",
    "\n",
    "1. Gathering coordinate data from Arizona and Utah raw data files:"
   ]
  },
  {
   "cell_type": "code",
   "execution_count": 9,
   "metadata": {},
   "outputs": [],
   "source": [
    "az_coordinates = pd.read_csv('./data/raw_trail_data/arizona_trails.csv', usecols=['longitude', 'latitude'])\n",
    "ut_coordinates = pd.read_csv('./data/raw_trail_data/utah_trails.csv', usecols=['longitude', 'latitude'])"
   ]
  },
  {
   "cell_type": "code",
   "execution_count": 18,
   "metadata": {},
   "outputs": [
    {
     "data": {
      "text/html": [
       "<div>\n",
       "<style scoped>\n",
       "    .dataframe tbody tr th:only-of-type {\n",
       "        vertical-align: middle;\n",
       "    }\n",
       "\n",
       "    .dataframe tbody tr th {\n",
       "        vertical-align: top;\n",
       "    }\n",
       "\n",
       "    .dataframe thead th {\n",
       "        text-align: right;\n",
       "    }\n",
       "</style>\n",
       "<table border=\"1\" class=\"dataframe\">\n",
       "  <thead>\n",
       "    <tr style=\"text-align: right;\">\n",
       "      <th></th>\n",
       "      <th>longitude</th>\n",
       "      <th>latitude</th>\n",
       "    </tr>\n",
       "  </thead>\n",
       "  <tbody>\n",
       "    <tr>\n",
       "      <th>0</th>\n",
       "      <td>34.804602</td>\n",
       "      <td>-111.771244</td>\n",
       "    </tr>\n",
       "    <tr>\n",
       "      <th>1</th>\n",
       "      <td>34.790166</td>\n",
       "      <td>-111.765576</td>\n",
       "    </tr>\n",
       "    <tr>\n",
       "      <th>2</th>\n",
       "      <td>34.906801</td>\n",
       "      <td>-111.824568</td>\n",
       "    </tr>\n",
       "    <tr>\n",
       "      <th>3</th>\n",
       "      <td>34.906632</td>\n",
       "      <td>-111.823948</td>\n",
       "    </tr>\n",
       "    <tr>\n",
       "      <th>4</th>\n",
       "      <td>32.439082</td>\n",
       "      <td>-111.098523</td>\n",
       "    </tr>\n",
       "  </tbody>\n",
       "</table>\n",
       "</div>"
      ],
      "text/plain": [
       "   longitude    latitude\n",
       "0  34.804602 -111.771244\n",
       "1  34.790166 -111.765576\n",
       "2  34.906801 -111.824568\n",
       "3  34.906632 -111.823948\n",
       "4  32.439082 -111.098523"
      ]
     },
     "execution_count": 18,
     "metadata": {},
     "output_type": "execute_result"
    }
   ],
   "source": [
    "az_coordinates.head()"
   ]
  },
  {
   "cell_type": "code",
   "execution_count": 19,
   "metadata": {},
   "outputs": [
    {
     "data": {
      "text/html": [
       "<div>\n",
       "<style scoped>\n",
       "    .dataframe tbody tr th:only-of-type {\n",
       "        vertical-align: middle;\n",
       "    }\n",
       "\n",
       "    .dataframe tbody tr th {\n",
       "        vertical-align: top;\n",
       "    }\n",
       "\n",
       "    .dataframe thead th {\n",
       "        text-align: right;\n",
       "    }\n",
       "</style>\n",
       "<table border=\"1\" class=\"dataframe\">\n",
       "  <thead>\n",
       "    <tr style=\"text-align: right;\">\n",
       "      <th></th>\n",
       "      <th>longitude</th>\n",
       "      <th>latitude</th>\n",
       "    </tr>\n",
       "  </thead>\n",
       "  <tbody>\n",
       "    <tr>\n",
       "      <th>0</th>\n",
       "      <td>37.702572</td>\n",
       "      <td>-112.279340</td>\n",
       "    </tr>\n",
       "    <tr>\n",
       "      <th>1</th>\n",
       "      <td>40.613847</td>\n",
       "      <td>-111.570911</td>\n",
       "    </tr>\n",
       "    <tr>\n",
       "      <th>2</th>\n",
       "      <td>38.518172</td>\n",
       "      <td>-109.618450</td>\n",
       "    </tr>\n",
       "    <tr>\n",
       "      <th>3</th>\n",
       "      <td>37.132839</td>\n",
       "      <td>-113.071259</td>\n",
       "    </tr>\n",
       "    <tr>\n",
       "      <th>4</th>\n",
       "      <td>38.637614</td>\n",
       "      <td>-109.784979</td>\n",
       "    </tr>\n",
       "  </tbody>\n",
       "</table>\n",
       "</div>"
      ],
      "text/plain": [
       "   longitude    latitude\n",
       "0  37.702572 -112.279340\n",
       "1  40.613847 -111.570911\n",
       "2  38.518172 -109.618450\n",
       "3  37.132839 -113.071259\n",
       "4  38.637614 -109.784979"
      ]
     },
     "execution_count": 19,
     "metadata": {},
     "output_type": "execute_result"
    }
   ],
   "source": [
    "ut_coordinates.head()"
   ]
  },
  {
   "cell_type": "code",
   "execution_count": 20,
   "metadata": {},
   "outputs": [
    {
     "data": {
      "text/plain": [
       "((956, 2), (933, 2))"
      ]
     },
     "execution_count": 20,
     "metadata": {},
     "output_type": "execute_result"
    }
   ],
   "source": [
    "# similar sized datasets\n",
    "az_coordinates.shape, ut_coordinates.shape"
   ]
  },
  {
   "cell_type": "code",
   "execution_count": 16,
   "metadata": {},
   "outputs": [
    {
     "data": {
      "text/plain": [
       "(longitude    11\n",
       " latitude     11\n",
       " dtype: int64,\n",
       " longitude    4\n",
       " latitude     4\n",
       " dtype: int64)"
      ]
     },
     "execution_count": 16,
     "metadata": {},
     "output_type": "execute_result"
    }
   ],
   "source": [
    "# looking for any missing data.  We'll drop any rows that don't have info\n",
    "az_coordinates.isnull().sum(), ut_coordinates.isnull().sum()"
   ]
  },
  {
   "cell_type": "code",
   "execution_count": 24,
   "metadata": {},
   "outputs": [
    {
     "data": {
      "text/html": [
       "<div>\n",
       "<style scoped>\n",
       "    .dataframe tbody tr th:only-of-type {\n",
       "        vertical-align: middle;\n",
       "    }\n",
       "\n",
       "    .dataframe tbody tr th {\n",
       "        vertical-align: top;\n",
       "    }\n",
       "\n",
       "    .dataframe thead th {\n",
       "        text-align: right;\n",
       "    }\n",
       "</style>\n",
       "<table border=\"1\" class=\"dataframe\">\n",
       "  <thead>\n",
       "    <tr style=\"text-align: right;\">\n",
       "      <th></th>\n",
       "      <th>longitude</th>\n",
       "      <th>latitude</th>\n",
       "    </tr>\n",
       "  </thead>\n",
       "  <tbody>\n",
       "    <tr>\n",
       "      <th>0</th>\n",
       "      <td>34.804602</td>\n",
       "      <td>-111.771244</td>\n",
       "    </tr>\n",
       "    <tr>\n",
       "      <th>1</th>\n",
       "      <td>34.790166</td>\n",
       "      <td>-111.765576</td>\n",
       "    </tr>\n",
       "    <tr>\n",
       "      <th>2</th>\n",
       "      <td>34.906801</td>\n",
       "      <td>-111.824568</td>\n",
       "    </tr>\n",
       "    <tr>\n",
       "      <th>3</th>\n",
       "      <td>34.906632</td>\n",
       "      <td>-111.823948</td>\n",
       "    </tr>\n",
       "    <tr>\n",
       "      <th>4</th>\n",
       "      <td>32.439082</td>\n",
       "      <td>-111.098523</td>\n",
       "    </tr>\n",
       "  </tbody>\n",
       "</table>\n",
       "</div>"
      ],
      "text/plain": [
       "   longitude    latitude\n",
       "0  34.804602 -111.771244\n",
       "1  34.790166 -111.765576\n",
       "2  34.906801 -111.824568\n",
       "3  34.906632 -111.823948\n",
       "4  32.439082 -111.098523"
      ]
     },
     "execution_count": 24,
     "metadata": {},
     "output_type": "execute_result"
    }
   ],
   "source": [
    "# dropping nulls\n",
    "az_coordinates.dropna(inplace = True)\n",
    "ut_coordinates.dropna(inplace = True)\n",
    "\n",
    "# combining the two datasets for K-Means clustering\n",
    "datasets = [az_coordinates, ut_coordinates]\n",
    "coordinates = pd.concat(datasets)\n",
    "coordinates.head()"
   ]
  },
  {
   "cell_type": "code",
   "execution_count": 25,
   "metadata": {},
   "outputs": [
    {
     "data": {
      "text/plain": [
       "(1874, 2)"
      ]
     },
     "execution_count": 25,
     "metadata": {},
     "output_type": "execute_result"
    }
   ],
   "source": [
    "# both datasets are combined now adn ready for processing\n",
    "coordinates.shape"
   ]
  },
  {
   "cell_type": "markdown",
   "metadata": {},
   "source": [
    "<a id='plot'></a>"
   ]
  },
  {
   "cell_type": "code",
   "execution_count": 36,
   "metadata": {},
   "outputs": [
    {
     "data": {
      "image/png": "[encoded data removed]",
      "text/plain": [
       "<Figure size 432x864 with 1 Axes>"
      ]
     },
     "metadata": {},
     "output_type": "display_data"
    }
   ],
   "source": [
    "# Plot the scatter\n",
    "ax = coordinates.plot(kind=\"scatter\", x=\"latitude\", y=\"longitude\", figsize=(6,12), s=50)\n",
    "plt.xlabel(\"$longitude$\", fontsize=18)\n",
    "plt.ylabel(\"$latitude$\", fontsize=18)\n",
    "plt.title('Coordinate Plot of AZ/UT Trails', fontsize= 20)\n",
    "ax.tick_params(axis='both', which='major', labelsize=18)"
   ]
  },
  {
   "cell_type": "markdown",
   "metadata": {},
   "source": [
    "#### Cluster Matrix Preprocessing"
   ]
  },
  {
   "cell_type": "code",
   "execution_count": 38,
   "metadata": {},
   "outputs": [],
   "source": [
    "latlong = coordinates.copy()\n",
    "ss= StandardScaler()\n",
    "ss.fit(latlong)\n",
    "latlong_sc = ss.transform(latlong)"
   ]
  },
  {
   "cell_type": "code",
   "execution_count": 39,
   "metadata": {},
   "outputs": [
    {
     "data": {
      "text/plain": [
       "KMeans(n_clusters=9, random_state=42)"
      ]
     },
     "execution_count": 39,
     "metadata": {},
     "output_type": "execute_result"
    }
   ],
   "source": [
    "# deciding on number of clusters.\n",
    "# we will start with k=9\n",
    "# instantiating KMeans\n",
    "\n",
    "km=KMeans(n_clusters=9, random_state=42)\n",
    "km.fit(latlong_sc)"
   ]
  },
  {
   "cell_type": "code",
   "execution_count": 40,
   "metadata": {},
   "outputs": [
    {
     "data": {
      "text/plain": [
       "array([1, 1, 1, ..., 0, 0, 2])"
      ]
     },
     "execution_count": 40,
     "metadata": {},
     "output_type": "execute_result"
    }
   ],
   "source": [
    "# cluster designations\n",
    "km.labels_"
   ]
  },
  {
   "cell_type": "code",
   "execution_count": 41,
   "metadata": {},
   "outputs": [
    {
     "data": {
      "text/html": [
       "<div>\n",
       "<style scoped>\n",
       "    .dataframe tbody tr th:only-of-type {\n",
       "        vertical-align: middle;\n",
       "    }\n",
       "\n",
       "    .dataframe tbody tr th {\n",
       "        vertical-align: top;\n",
       "    }\n",
       "\n",
       "    .dataframe thead th {\n",
       "        text-align: right;\n",
       "    }\n",
       "</style>\n",
       "<table border=\"1\" class=\"dataframe\">\n",
       "  <thead>\n",
       "    <tr style=\"text-align: right;\">\n",
       "      <th></th>\n",
       "      <th>longitude</th>\n",
       "      <th>latitude</th>\n",
       "      <th>cluster</th>\n",
       "    </tr>\n",
       "  </thead>\n",
       "  <tbody>\n",
       "    <tr>\n",
       "      <th>0</th>\n",
       "      <td>34.804602</td>\n",
       "      <td>-111.771244</td>\n",
       "      <td>1</td>\n",
       "    </tr>\n",
       "    <tr>\n",
       "      <th>1</th>\n",
       "      <td>34.790166</td>\n",
       "      <td>-111.765576</td>\n",
       "      <td>1</td>\n",
       "    </tr>\n",
       "    <tr>\n",
       "      <th>2</th>\n",
       "      <td>34.906801</td>\n",
       "      <td>-111.824568</td>\n",
       "      <td>1</td>\n",
       "    </tr>\n",
       "    <tr>\n",
       "      <th>3</th>\n",
       "      <td>34.906632</td>\n",
       "      <td>-111.823948</td>\n",
       "      <td>1</td>\n",
       "    </tr>\n",
       "    <tr>\n",
       "      <th>4</th>\n",
       "      <td>32.439082</td>\n",
       "      <td>-111.098523</td>\n",
       "      <td>6</td>\n",
       "    </tr>\n",
       "  </tbody>\n",
       "</table>\n",
       "</div>"
      ],
      "text/plain": [
       "   longitude    latitude  cluster\n",
       "0  34.804602 -111.771244        1\n",
       "1  34.790166 -111.765576        1\n",
       "2  34.906801 -111.824568        1\n",
       "3  34.906632 -111.823948        1\n",
       "4  32.439082 -111.098523        6"
      ]
     },
     "execution_count": 41,
     "metadata": {},
     "output_type": "execute_result"
    }
   ],
   "source": [
    "# adding cluster row to dataframe\n",
    "latlong['cluster']=km.labels_\n",
    "latlong.head()"
   ]
  },
  {
   "cell_type": "markdown",
   "metadata": {},
   "source": [
    "#### Visualizing the Clusters and Centroids"
   ]
  },
  {
   "cell_type": "code",
   "execution_count": 48,
   "metadata": {},
   "outputs": [
    {
     "data": {
      "text/html": [
       "<div>\n",
       "<style scoped>\n",
       "    .dataframe tbody tr th:only-of-type {\n",
       "        vertical-align: middle;\n",
       "    }\n",
       "\n",
       "    .dataframe tbody tr th {\n",
       "        vertical-align: top;\n",
       "    }\n",
       "\n",
       "    .dataframe thead th {\n",
       "        text-align: right;\n",
       "    }\n",
       "</style>\n",
       "<table border=\"1\" class=\"dataframe\">\n",
       "  <thead>\n",
       "    <tr style=\"text-align: right;\">\n",
       "      <th></th>\n",
       "      <th>longitude</th>\n",
       "      <th>latitude</th>\n",
       "    </tr>\n",
       "  </thead>\n",
       "  <tbody>\n",
       "    <tr>\n",
       "      <th>0</th>\n",
       "      <td>40.672158</td>\n",
       "      <td>-111.674825</td>\n",
       "    </tr>\n",
       "    <tr>\n",
       "      <th>1</th>\n",
       "      <td>34.181860</td>\n",
       "      <td>-111.779265</td>\n",
       "    </tr>\n",
       "    <tr>\n",
       "      <th>2</th>\n",
       "      <td>38.745893</td>\n",
       "      <td>-109.643079</td>\n",
       "    </tr>\n",
       "    <tr>\n",
       "      <th>3</th>\n",
       "      <td>37.442200</td>\n",
       "      <td>-113.119023</td>\n",
       "    </tr>\n",
       "    <tr>\n",
       "      <th>4</th>\n",
       "      <td>34.157330</td>\n",
       "      <td>-112.407075</td>\n",
       "    </tr>\n",
       "    <tr>\n",
       "      <th>5</th>\n",
       "      <td>33.892934</td>\n",
       "      <td>-114.319550</td>\n",
       "    </tr>\n",
       "    <tr>\n",
       "      <th>6</th>\n",
       "      <td>32.243920</td>\n",
       "      <td>-110.893403</td>\n",
       "    </tr>\n",
       "    <tr>\n",
       "      <th>7</th>\n",
       "      <td>33.431792</td>\n",
       "      <td>-109.697134</td>\n",
       "    </tr>\n",
       "    <tr>\n",
       "      <th>8</th>\n",
       "      <td>32.370842</td>\n",
       "      <td>-112.874450</td>\n",
       "    </tr>\n",
       "  </tbody>\n",
       "</table>\n",
       "</div>"
      ],
      "text/plain": [
       "   longitude    latitude\n",
       "0  40.672158 -111.674825\n",
       "1  34.181860 -111.779265\n",
       "2  38.745893 -109.643079\n",
       "3  37.442200 -113.119023\n",
       "4  34.157330 -112.407075\n",
       "5  33.892934 -114.319550\n",
       "6  32.243920 -110.893403\n",
       "7  33.431792 -109.697134\n",
       "8  32.370842 -112.874450"
      ]
     },
     "execution_count": 48,
     "metadata": {},
     "output_type": "execute_result"
    }
   ],
   "source": [
    "#centroids are lcoated at the avg point within each cluster\n",
    "\n",
    "centroids = pd.DataFrame(\n",
    "    ss.inverse_transform(km.cluster_centers_),\n",
    "    columns = [\"longitude\", \"latitude\"])\n",
    "centroids"
   ]
  },
  {
   "cell_type": "markdown",
   "metadata": {},
   "source": [
    "<a id='cluster'></a>\n",
    "#### Clustering into 9 distinct riding areas appears to work well with the data.\n",
    "\n",
    "This could be used inthe future to allow users to select trails from individuals riding cluster areas (in addition to radius search functionality that will be added shortly)"
   ]
  },
  {
   "cell_type": "code",
   "execution_count": 82,
   "metadata": {},
   "outputs": [
    {
     "data": {
      "image/png": "[encoded data removed]",
      "text/plain": [
       "<Figure size 432x864 with 1 Axes>"
      ]
     },
     "metadata": {},
     "output_type": "display_data"
    }
   ],
   "source": [
    "# plotting the clusters with centroids added\n",
    "## Plot scatter by cluster / color, and centroids\n",
    "\n",
    "colors = [\"0.75\", \"b\", \"g\",\"r\", \"c\", \"m\",\"y\", \"k\", \"0.50\"];\n",
    "latlong['color'] = latlong['cluster'].map(lambda p: colors[p]);\n",
    "\n",
    "\n",
    "ax = latlong.plot(    \n",
    "    kind=\"scatter\", \n",
    "    x=\"latitude\", y=\"longitude\",\n",
    "    fontsize=18,\n",
    "    figsize=(6,12),\n",
    "    c = latlong['color'],\n",
    "    xlabel=\"longitude\",\n",
    "    ylabel=\"latitude\",\n",
    "    title='KMeans Cluster Plot of AZ/UT Trails'\n",
    ");\n",
    "\n",
    "centroids.plot(\n",
    "    kind=\"scatter\", \n",
    "    x=\"latitude\", y=\"longitude\",\n",
    "    fontsize=18,\n",
    "    marker=\"X\", c='k', s=500,\n",
    "    xlabel=\"longitude\",\n",
    "    ylabel=\"latitude\",\n",
    "    ax=ax\n",
    ");\n"
   ]
  }
 ],
 "metadata": {
  "kernelspec": {
   "display_name": "Python 3",
   "language": "python",
   "name": "python3"
  },
  "language_info": {
   "codemirror_mode": {
    "name": "ipython",
    "version": 3
   },
   "file_extension": ".py",
   "mimetype": "text/x-python",
   "name": "python",
   "nbconvert_exporter": "python",
   "pygments_lexer": "ipython3",
   "version": "3.8.5"
  }
 },
 "nbformat": 4,
 "nbformat_minor": 4
}
